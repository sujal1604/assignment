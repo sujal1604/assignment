{
 "cells": [
  {
   "cell_type": "code",
   "execution_count": 1,
   "id": "bb0a24f7-7cdb-4e00-857e-6697c89b7466",
   "metadata": {},
   "outputs": [],
   "source": [
    "#python programming\n",
    "#sql"
   ]
  },
  {
   "cell_type": "code",
   "execution_count": 3,
   "id": "7316c01d-6dbd-4a52-99c0-4ebc1ae94aec",
   "metadata": {},
   "outputs": [],
   "source": [
    "#python : high level programming language\n",
    "#Developed by: Guido vann Rossum :1991"
   ]
  },
  {
   "cell_type": "code",
   "execution_count": 5,
   "id": "27bc5c4b-3bfc-42c4-9ecb-973c8dcc7b7d",
   "metadata": {},
   "outputs": [
    {
     "name": "stdout",
     "output_type": "stream",
     "text": [
      "sujal Agrawal\n"
     ]
    }
   ],
   "source": [
    "print (\"sujal Agrawal\")"
   ]
  },
  {
   "cell_type": "code",
   "execution_count": 7,
   "id": "adfdfc5e-9206-4637-8be1-a8386fabb92e",
   "metadata": {},
   "outputs": [
    {
     "name": "stdout",
     "output_type": "stream",
     "text": [
      "sujal\n",
      "Agrawal\n"
     ]
    }
   ],
   "source": [
    "print (\"sujal\")\n",
    "print(\"Agrawal\")"
   ]
  },
  {
   "cell_type": "code",
   "execution_count": 9,
   "id": "167f0410-8a17-4ecf-8ba0-452c41293668",
   "metadata": {},
   "outputs": [
    {
     "name": "stdout",
     "output_type": "stream",
     "text": [
      "sujal Agrawal\n"
     ]
    }
   ],
   "source": [
    "print (\"sujal\", end=\" \")\n",
    "print(\"Agrawal\")"
   ]
  },
  {
   "cell_type": "code",
   "execution_count": 11,
   "id": "67a053a9-4996-4ff5-bab2-f74738e34ffb",
   "metadata": {},
   "outputs": [],
   "source": [
    "#print syntax : print (objects, sep=' ', end='\\n', file=None, flush=False)"
   ]
  },
  {
   "cell_type": "code",
   "execution_count": 13,
   "id": "0672f296-9fe4-460a-a977-06a3581efc65",
   "metadata": {},
   "outputs": [],
   "source": [
    "#input function :"
   ]
  },
  {
   "cell_type": "code",
   "execution_count": 16,
   "id": "bd24238f-4dd6-46ba-99ac-e712f8cba390",
   "metadata": {},
   "outputs": [
    {
     "name": "stdin",
     "output_type": "stream",
     "text": [
      "Enter your name :  sujal\n"
     ]
    },
    {
     "name": "stdout",
     "output_type": "stream",
     "text": [
      "sujal\n"
     ]
    }
   ],
   "source": [
    "name = input(\"Enter your name : \")\n",
    "\n",
    "print(name)"
   ]
  },
  {
   "cell_type": "code",
   "execution_count": 18,
   "id": "1f102296-8f83-48e5-97f8-b169af57f810",
   "metadata": {},
   "outputs": [
    {
     "name": "stdin",
     "output_type": "stream",
     "text": [
      "Enter first number :  25\n",
      "Enter second number:  25\n"
     ]
    },
    {
     "name": "stdout",
     "output_type": "stream",
     "text": [
      "2525\n"
     ]
    }
   ],
   "source": [
    "x = input(\"Enter first number : \") \n",
    "y = input(\"Enter second number: \")\n",
    "\n",
    "add = x + y\n",
    "\n",
    "print(add)\n",
    "\n",
    "         "
   ]
  },
  {
   "cell_type": "code",
   "execution_count": 20,
   "id": "ab3894a9-56d4-4046-a427-e1fd8b85b3e1",
   "metadata": {},
   "outputs": [
    {
     "name": "stdin",
     "output_type": "stream",
     "text": [
      "Enter first number :  2\n",
      "Enter second number :  2\n"
     ]
    },
    {
     "name": "stdout",
     "output_type": "stream",
     "text": [
      "22\n"
     ]
    }
   ],
   "source": [
    "x = input(\"Enter first number : \")\n",
    "y = input(\"Enter second number : \")\n",
    "\n",
    "add = x + y\n",
    "\n",
    "print(add)\n",
    "\n",
    "\n",
    "#Data type :\n",
    "#integer : 2,4,6,8 => int\n",
    "\n"
   ]
  },
  {
   "cell_type": "code",
   "execution_count": 22,
   "id": "98e894b5-afa9-4c28-b76c-ed4856c28e38",
   "metadata": {},
   "outputs": [
    {
     "name": "stdin",
     "output_type": "stream",
     "text": [
      "Enter first number :  2\n",
      "Enter second number :  2\n"
     ]
    },
    {
     "name": "stdout",
     "output_type": "stream",
     "text": [
      "22\n",
      "<class 'str'>\n",
      "<class 'str'>\n"
     ]
    }
   ],
   "source": [
    "x = input(\"Enter first number : \")\n",
    "y = input(\"Enter second number : \")\n",
    "\n",
    "add =x + y\n",
    "\n",
    "print(add)\n",
    "\n",
    "\n",
    "print(type(x))\n",
    "print(type(y))\n",
    "#class type(object)\n",
    "#class type(nmae, bases,dict, **kwds)\n",
    "\n",
    "\n"
   ]
  },
  {
   "cell_type": "code",
   "execution_count": 24,
   "id": "4ee3db6a-da8b-4564-97b6-5e9a364d0b6c",
   "metadata": {},
   "outputs": [
    {
     "name": "stdin",
     "output_type": "stream",
     "text": [
      "Enter first number :  25\n",
      "Enter second number :  25\n"
     ]
    },
    {
     "name": "stdout",
     "output_type": "stream",
     "text": [
      "50\n",
      "<class 'int'>\n",
      "<class 'int'>\n"
     ]
    }
   ],
   "source": [
    "x = int(input(\"Enter first number : \"))\n",
    "y = int(input(\"Enter second number : \"))\n",
    "\n",
    "add = x + y\n",
    "\n",
    "print(add)\n",
    "\n",
    "print(type(x))\n",
    "print (type(y))\n"
   ]
  },
  {
   "cell_type": "code",
   "execution_count": 2,
   "id": "53e8349b-5e1c-4fb2-9ee8-ea234b8b41da",
   "metadata": {},
   "outputs": [],
   "source": [
    "#Data types :\n",
    "#integer :\n",
    "#string\n",
    "#boolean\n",
    "#float\n",
    "#data structures\n",
    "#list\n",
    "#tuple\n",
    "#set\n",
    "#dictionary"
   ]
  },
  {
   "cell_type": "code",
   "execution_count": 4,
   "id": "73d14b75-4d6e-41e9-8e54-dc66de44eac9",
   "metadata": {},
   "outputs": [],
   "source": [
    "name = \"sujal\""
   ]
  },
  {
   "cell_type": "code",
   "execution_count": 6,
   "id": "c4ea3ff0-7bbf-4a45-b9e8-0ce9906f5f0c",
   "metadata": {},
   "outputs": [
    {
     "name": "stdout",
     "output_type": "stream",
     "text": [
      "<class 'str'>\n"
     ]
    }
   ],
   "source": [
    "print(type(name))"
   ]
  },
  {
   "cell_type": "code",
   "execution_count": 8,
   "id": "e9948602-13c5-46e4-9af2-e9ecbc41f162",
   "metadata": {},
   "outputs": [],
   "source": [
    "age =25"
   ]
  },
  {
   "cell_type": "code",
   "execution_count": 12,
   "id": "5cf136c6-85ec-43a5-b233-5dda186833b3",
   "metadata": {},
   "outputs": [
    {
     "name": "stdout",
     "output_type": "stream",
     "text": [
      "<class 'int'>\n"
     ]
    }
   ],
   "source": [
    "print(type(age))"
   ]
  },
  {
   "cell_type": "code",
   "execution_count": 14,
   "id": "bdc94b4a-484c-4df5-8456-55d78ce9d2db",
   "metadata": {},
   "outputs": [],
   "source": [
    "isMale = True"
   ]
  },
  {
   "cell_type": "markdown",
   "id": "edd5cb98-b1a8-4f43-806f-1c16f009a193",
   "metadata": {},
   "source": [
    "print(type(isMale))"
   ]
  },
  {
   "cell_type": "code",
   "execution_count": 17,
   "id": "4d871e79-60ad-4da3-b023-1396a55d0124",
   "metadata": {},
   "outputs": [],
   "source": [
    "salary= 25000.365"
   ]
  },
  {
   "cell_type": "code",
   "execution_count": 19,
   "id": "21d5da9d-5388-406f-8742-fa57ef55aa81",
   "metadata": {},
   "outputs": [
    {
     "name": "stdout",
     "output_type": "stream",
     "text": [
      "<class 'float'>\n"
     ]
    }
   ],
   "source": [
    "print (type(salary))"
   ]
  },
  {
   "cell_type": "code",
   "execution_count": 23,
   "id": "1f30d0eb-2a6b-4f6a-a590-1131e850e43e",
   "metadata": {},
   "outputs": [],
   "source": [
    "movies = [\"Bahubali\", \"RRR\",\"Stree2\"]"
   ]
  },
  {
   "cell_type": "code",
   "execution_count": 25,
   "id": "8eb5310c-a913-4660-b3c2-37c2c4e5c368",
   "metadata": {},
   "outputs": [
    {
     "name": "stdout",
     "output_type": "stream",
     "text": [
      "<class 'list'>\n"
     ]
    }
   ],
   "source": [
    "print(type(movies))"
   ]
  },
  {
   "cell_type": "code",
   "execution_count": 27,
   "id": "f499aa95-0f21-4d43-b580-5fb6ec1bb7e4",
   "metadata": {},
   "outputs": [
    {
     "name": "stdout",
     "output_type": "stream",
     "text": [
      "['__add__', '__class__', '__class_getitem__', '__contains__', '__delattr__', '__delitem__', '__dir__', '__doc__', '__eq__', '__format__', '__ge__', '__getattribute__', '__getitem__', '__getstate__', '__gt__', '__hash__', '__iadd__', '__imul__', '__init__', '__init_subclass__', '__iter__', '__le__', '__len__', '__lt__', '__mul__', '__ne__', '__new__', '__reduce__', '__reduce_ex__', '__repr__', '__reversed__', '__rmul__', '__setattr__', '__setitem__', '__sizeof__', '__str__', '__subclasshook__', 'append', 'clear', 'copy', 'count', 'extend', 'index', 'insert', 'pop', 'remove', 'reverse', 'sort']\n"
     ]
    }
   ],
   "source": [
    "print(dir(movies))"
   ]
  },
  {
   "cell_type": "code",
   "execution_count": 29,
   "id": "861a39f6-029d-49c4-b58d-b7a27428e85c",
   "metadata": {},
   "outputs": [
    {
     "name": "stdout",
     "output_type": "stream",
     "text": [
      "['Bahubali', 'RRR', 'Stree2']\n"
     ]
    }
   ],
   "source": [
    "movies = [\"Bahubali\",\"RRR\",\"Stree2\"]\n",
    "\n",
    "print(movies)"
   ]
  },
  {
   "cell_type": "code",
   "execution_count": 31,
   "id": "fdbda94b-3a0b-460b-b289-e0cc59e0f044",
   "metadata": {},
   "outputs": [],
   "source": [
    "movies.append(\"sujal\")"
   ]
  },
  {
   "cell_type": "code",
   "execution_count": 33,
   "id": "5b7b1024-114d-4814-9c57-21c8177e8eea",
   "metadata": {},
   "outputs": [
    {
     "name": "stdout",
     "output_type": "stream",
     "text": [
      "['Bahubali', 'RRR', 'Stree2', 'sujal']\n"
     ]
    }
   ],
   "source": [
    "print(movies)"
   ]
  },
  {
   "cell_type": "code",
   "execution_count": 35,
   "id": "1b6c85f7-4616-4f51-9164-c5c3ed5f1665",
   "metadata": {},
   "outputs": [
    {
     "data": {
      "text/plain": [
       "'sujal'"
      ]
     },
     "execution_count": 35,
     "metadata": {},
     "output_type": "execute_result"
    }
   ],
   "source": [
    "movies.pop()"
   ]
  },
  {
   "cell_type": "code",
   "execution_count": 37,
   "id": "20b11d9c-e4dd-4e60-b9c7-cdcf6bfba038",
   "metadata": {},
   "outputs": [
    {
     "data": {
      "text/plain": [
       "['Bahubali', 'RRR', 'Stree2']"
      ]
     },
     "execution_count": 37,
     "metadata": {},
     "output_type": "execute_result"
    }
   ],
   "source": [
    "movies"
   ]
  },
  {
   "cell_type": "code",
   "execution_count": 54,
   "id": "437b9e27-1709-4330-a111-5d9a9b91c726",
   "metadata": {},
   "outputs": [],
   "source": [
    "ls = [2,4,5,6,7,8,9,1,2,3,4,51,1,21,21,1,11,1,1,1,1,11]"
   ]
  },
  {
   "cell_type": "code",
   "execution_count": 58,
   "id": "1eef40be-0366-4be8-ac7b-7ef144390c30",
   "metadata": {},
   "outputs": [
    {
     "data": {
      "text/plain": [
       "7"
      ]
     },
     "execution_count": 58,
     "metadata": {},
     "output_type": "execute_result"
    }
   ],
   "source": [
    "ls.count(1)\n"
   ]
  },
  {
   "cell_type": "code",
   "execution_count": 56,
   "id": "cc74792b-046b-4fae-b675-05f28157918d",
   "metadata": {},
   "outputs": [
    {
     "data": {
      "text/plain": [
       "2"
      ]
     },
     "execution_count": 56,
     "metadata": {},
     "output_type": "execute_result"
    }
   ],
   "source": [
    "ls.count(21)"
   ]
  },
  {
   "cell_type": "code",
   "execution_count": 60,
   "id": "7a36a5f1-adf3-4fd7-b8ed-c7f1ecd71ac0",
   "metadata": {},
   "outputs": [],
   "source": [
    "ls.remove(51)"
   ]
  },
  {
   "cell_type": "code",
   "execution_count": 62,
   "id": "38c08b4b-11c5-4ce0-844d-0e03dfd696c6",
   "metadata": {},
   "outputs": [
    {
     "data": {
      "text/plain": [
       "[2, 4, 5, 6, 7, 8, 9, 1, 2, 3, 4, 1, 21, 21, 1, 11, 1, 1, 1, 1, 11]"
      ]
     },
     "execution_count": 62,
     "metadata": {},
     "output_type": "execute_result"
    }
   ],
   "source": [
    "ls"
   ]
  },
  {
   "cell_type": "code",
   "execution_count": 64,
   "id": "4b10ff73-c1c7-430b-8b4d-f136ea77de18",
   "metadata": {},
   "outputs": [],
   "source": [
    "ls.insert(2, \"sujal\")"
   ]
  },
  {
   "cell_type": "code",
   "execution_count": 66,
   "id": "c9a8a595-3d5a-4f36-8579-2b910c7593ab",
   "metadata": {},
   "outputs": [
    {
     "data": {
      "text/plain": [
       "[2, 4, 'sujal', 5, 6, 7, 8, 9, 1, 2, 3, 4, 1, 21, 21, 1, 11, 1, 1, 1, 1, 11]"
      ]
     },
     "execution_count": 66,
     "metadata": {},
     "output_type": "execute_result"
    }
   ],
   "source": [
    "ls"
   ]
  },
  {
   "cell_type": "code",
   "execution_count": 68,
   "id": "b8f34bcb-0288-4dcc-80e9-e57b0c148d23",
   "metadata": {},
   "outputs": [],
   "source": [
    "ls.clear()\n"
   ]
  },
  {
   "cell_type": "code",
   "execution_count": 70,
   "id": "a79463d1-a896-4060-9c87-de925c1357d0",
   "metadata": {},
   "outputs": [
    {
     "data": {
      "text/plain": [
       "[]"
      ]
     },
     "execution_count": 70,
     "metadata": {},
     "output_type": "execute_result"
    }
   ],
   "source": [
    "ls"
   ]
  },
  {
   "cell_type": "code",
   "execution_count": 74,
   "id": "9b7414fd-22cb-4c7b-98de-63fac8e8e44f",
   "metadata": {},
   "outputs": [],
   "source": [
    "ls = [2,4,5,6,4,5,6,]"
   ]
  },
  {
   "cell_type": "code",
   "execution_count": 76,
   "id": "19e63527-2444-43d4-bec9-ad5255411913",
   "metadata": {},
   "outputs": [],
   "source": [
    "ls.sort()"
   ]
  },
  {
   "cell_type": "code",
   "execution_count": 78,
   "id": "3a10faf0-2fa6-44d8-b244-98d8fcb5ed54",
   "metadata": {},
   "outputs": [
    {
     "data": {
      "text/plain": [
       "[2, 4, 4, 5, 5, 6, 6]"
      ]
     },
     "execution_count": 78,
     "metadata": {},
     "output_type": "execute_result"
    }
   ],
   "source": [
    "ls"
   ]
  },
  {
   "cell_type": "code",
   "execution_count": 88,
   "id": "cebf9e2f-9b10-45cc-ab0f-7150bd8bd7c3",
   "metadata": {},
   "outputs": [],
   "source": [
    "ls.sort(reverse=False)\n",
    "\n",
    "\n"
   ]
  },
  {
   "cell_type": "code",
   "execution_count": 90,
   "id": "9c6bca89-8abd-4348-964a-8ff8e358f25d",
   "metadata": {},
   "outputs": [
    {
     "data": {
      "text/plain": [
       "[2, 4, 4, 5, 5, 6, 6]"
      ]
     },
     "execution_count": 90,
     "metadata": {},
     "output_type": "execute_result"
    }
   ],
   "source": [
    "ls"
   ]
  },
  {
   "cell_type": "code",
   "execution_count": 92,
   "id": "0a777cb0-2cf2-4d25-951f-9d34ac4b6ab0",
   "metadata": {},
   "outputs": [],
   "source": [
    "ls.sort(reverse=True)\n"
   ]
  },
  {
   "cell_type": "code",
   "execution_count": 95,
   "id": "37b317b5-f168-4841-b8e6-6f43e326c8ec",
   "metadata": {},
   "outputs": [
    {
     "data": {
      "text/plain": [
       "[6, 6, 5, 5, 4, 4, 2]"
      ]
     },
     "execution_count": 95,
     "metadata": {},
     "output_type": "execute_result"
    }
   ],
   "source": [
    "ls"
   ]
  },
  {
   "cell_type": "code",
   "execution_count": 97,
   "id": "483aa9d0-a390-41f8-afbf-d64c909188fd",
   "metadata": {},
   "outputs": [],
   "source": [
    "#Area of square : 4a"
   ]
  },
  {
   "cell_type": "code",
   "execution_count": 3,
   "id": "1e095ef3-7456-4101-b085-3ca6c572c708",
   "metadata": {},
   "outputs": [
    {
     "name": "stdin",
     "output_type": "stream",
     "text": [
      "Enter the side :  5\n"
     ]
    },
    {
     "name": "stdout",
     "output_type": "stream",
     "text": [
      "20\n"
     ]
    }
   ],
   "source": [
    "a= int(input(\"Enter the side : \"))\n",
    "\n",
    "area_of_square = 2*a\n",
    "\n",
    "print (area_of_square)"
   ]
  },
  {
   "cell_type": "code",
   "execution_count": 5,
   "id": "cd46f163-40e9-4c11-ad3c-5fd2269e4390",
   "metadata": {},
   "outputs": [],
   "source": [
    "#Area of circle : from math import pi"
   ]
  },
  {
   "cell_type": "code",
   "execution_count": 9,
   "id": "d7a2b711-9b53-4cda-8d87-d1508d858987",
   "metadata": {},
   "outputs": [],
   "source": [
    "#pi"
   ]
  },
  {
   "cell_type": "code",
   "execution_count": 11,
   "id": "d9b10a4b-21f7-4188-a0f3-9479e12a916d",
   "metadata": {},
   "outputs": [
    {
     "name": "stdout",
     "output_type": "stream",
     "text": [
      "sujal Agrawal\n"
     ]
    }
   ],
   "source": [
    "print (\"sujal Agrawal\")"
   ]
  },
  {
   "cell_type": "code",
   "execution_count": 13,
   "id": "5643ced6-a6fa-46ee-ba99-68630ee93413",
   "metadata": {},
   "outputs": [
    {
     "name": "stdout",
     "output_type": "stream",
     "text": [
      "sujal\n",
      "Agrawal\n"
     ]
    }
   ],
   "source": [
    "print (\"sujal\")\n",
    "print (\"Agrawal\")"
   ]
  },
  {
   "cell_type": "code",
   "execution_count": 15,
   "id": "732b4f92-a143-4e27-ad88-f1a95c42868e",
   "metadata": {},
   "outputs": [
    {
     "name": "stdout",
     "output_type": "stream",
     "text": [
      "sujal Agrawal\n"
     ]
    }
   ],
   "source": [
    "print (\"sujal\", end=\" \")\n",
    "print (\"Agrawal\")"
   ]
  },
  {
   "cell_type": "code",
   "execution_count": 18,
   "id": "249ffc00-7f21-42dd-b10a-d53d0388fb94",
   "metadata": {},
   "outputs": [],
   "source": [
    "#print syntax : print (objects, sep=' ', end='\\n',file=None, flush=false)"
   ]
  },
  {
   "cell_type": "code",
   "execution_count": 20,
   "id": "cafaea84-fa7d-40c0-b505-68b2ea492d2d",
   "metadata": {},
   "outputs": [],
   "source": [
    "#input function:"
   ]
  },
  {
   "cell_type": "code",
   "execution_count": 22,
   "id": "d13c5eba-1e71-4095-97da-86403d39aba3",
   "metadata": {},
   "outputs": [
    {
     "name": "stdin",
     "output_type": "stream",
     "text": [
      "Enter your name :  sujal\n"
     ]
    },
    {
     "name": "stdout",
     "output_type": "stream",
     "text": [
      "sujal\n"
     ]
    }
   ],
   "source": [
    "name = input (\"Enter your name : \")\n",
    "\n",
    "print(name)"
   ]
  },
  {
   "cell_type": "code",
   "execution_count": 24,
   "id": "a844ab8e-d8fb-4edf-bc49-fe1ca384281c",
   "metadata": {},
   "outputs": [
    {
     "name": "stdin",
     "output_type": "stream",
     "text": [
      "Enter first name :  sujal\n",
      "Enter second name:  \n"
     ]
    },
    {
     "name": "stdout",
     "output_type": "stream",
     "text": [
      "sujal\n"
     ]
    }
   ],
   "source": [
    "x= input(\"Enter first name : \")\n",
    "y= input(\"Enter second name: \")\n",
    "\n",
    "add = x + y\n",
    "\n",
    "print(add)"
   ]
  },
  {
   "cell_type": "code",
   "execution_count": 26,
   "id": "c8669086-a271-4e49-979e-027bc75cf277",
   "metadata": {},
   "outputs": [
    {
     "name": "stdin",
     "output_type": "stream",
     "text": [
      " Enter first number :  25\n",
      " Enter second number:  12\n"
     ]
    }
   ],
   "source": [
    "x= input (\" Enter first number : \")\n",
    "y= input (\" Enter second number: \")"
   ]
  },
  {
   "cell_type": "code",
   "execution_count": 1,
   "id": "04614730-da48-4b28-ba0e-79e801e24ff2",
   "metadata": {},
   "outputs": [],
   "source": [
    "movies = [\"vivah\", \"RRR\", \"stree2\"]\n",
    "\n",
    "\n"
   ]
  },
  {
   "cell_type": "code",
   "execution_count": 3,
   "id": "546bb971-613e-4d2b-a6dc-a8fdee34a03c",
   "metadata": {},
   "outputs": [
    {
     "name": "stdout",
     "output_type": "stream",
     "text": [
      "<class 'list'>\n"
     ]
    }
   ],
   "source": [
    "print(type(movies))\n",
    "\n",
    "\n"
   ]
  },
  {
   "cell_type": "code",
   "execution_count": 5,
   "id": "de1075e8-e586-405b-b70f-055e22eb7058",
   "metadata": {},
   "outputs": [
    {
     "name": "stdout",
     "output_type": "stream",
     "text": [
      "['__add__', '__class__', '__class_getitem__', '__contains__', '__delattr__', '__delitem__', '__dir__', '__doc__', '__eq__', '__format__', '__ge__', '__getattribute__', '__getitem__', '__getstate__', '__gt__', '__hash__', '__iadd__', '__imul__', '__init__', '__init_subclass__', '__iter__', '__le__', '__len__', '__lt__', '__mul__', '__ne__', '__new__', '__reduce__', '__reduce_ex__', '__repr__', '__reversed__', '__rmul__', '__setattr__', '__setitem__', '__sizeof__', '__str__', '__subclasshook__', 'append', 'clear', 'copy', 'count', 'extend', 'index', 'insert', 'pop', 'remove', 'reverse', 'sort']\n"
     ]
    }
   ],
   "source": [
    "print (dir(movies))\n",
    "\n"
   ]
  },
  {
   "cell_type": "code",
   "execution_count": 7,
   "id": "652153b4-4fa0-429e-8ee3-9bff22bf5f49",
   "metadata": {},
   "outputs": [
    {
     "name": "stdout",
     "output_type": "stream",
     "text": [
      "['vivah', 'RRR', 'stree2']\n"
     ]
    }
   ],
   "source": [
    "movies = [\"vivah\", \"RRR\", \"stree2\"]\n",
    "\n",
    "print(movies)\n",
    "\n",
    "\n"
   ]
  },
  {
   "cell_type": "code",
   "execution_count": 9,
   "id": "8bb4ad38-215a-46fb-917b-8a13c9d4313c",
   "metadata": {},
   "outputs": [],
   "source": [
    "movies.append(\"sujal\")\n",
    "\n",
    "\n"
   ]
  },
  {
   "cell_type": "code",
   "execution_count": 11,
   "id": "c117de50-f5a1-468e-8cf7-e799f56af111",
   "metadata": {},
   "outputs": [
    {
     "name": "stdout",
     "output_type": "stream",
     "text": [
      "['vivah', 'RRR', 'stree2', 'sujal']\n"
     ]
    }
   ],
   "source": [
    "print (movies)\n",
    "\n"
   ]
  },
  {
   "cell_type": "code",
   "execution_count": 14,
   "id": "deee5602-b59f-4ed4-a995-a7dbe1527173",
   "metadata": {},
   "outputs": [
    {
     "data": {
      "text/plain": [
       "'sujal'"
      ]
     },
     "execution_count": 14,
     "metadata": {},
     "output_type": "execute_result"
    }
   ],
   "source": [
    "movies.pop()\n",
    "\n",
    "\n"
   ]
  },
  {
   "cell_type": "markdown",
   "id": "241a903f-f1f2-4cb0-a134-1ee9f855c1fb",
   "metadata": {},
   "source": [
    "movies\n",
    "\n",
    "\n",
    "\n"
   ]
  },
  {
   "cell_type": "code",
   "execution_count": 22,
   "id": "d8db190b-3845-4bd5-9b0c-4ab672330a76",
   "metadata": {},
   "outputs": [],
   "source": [
    "ls =[2,4,5,6,7,8,9,1,21,21,1,11,1,1,1,1,11]\n",
    "\n",
    "\n"
   ]
  },
  {
   "cell_type": "code",
   "execution_count": 24,
   "id": "bb159b34-b267-4321-82f9-91e747822d5a",
   "metadata": {},
   "outputs": [
    {
     "data": {
      "text/plain": [
       "6"
      ]
     },
     "execution_count": 24,
     "metadata": {},
     "output_type": "execute_result"
    }
   ],
   "source": [
    "ls.count(1)\n",
    "\n"
   ]
  },
  {
   "cell_type": "code",
   "execution_count": 26,
   "id": "8eb54ab3-df0d-45cd-9fa0-a7841b9308e7",
   "metadata": {},
   "outputs": [
    {
     "data": {
      "text/plain": [
       "2"
      ]
     },
     "execution_count": 26,
     "metadata": {},
     "output_type": "execute_result"
    }
   ],
   "source": [
    "ls.count(21)\n",
    "\n"
   ]
  },
  {
   "cell_type": "code",
   "execution_count": 9,
   "id": "64bd6179-d09b-47de-86ea-09af0ce1ca5b",
   "metadata": {},
   "outputs": [
    {
     "ename": "NameError",
     "evalue": "name 'ls' is not defined",
     "output_type": "error",
     "traceback": [
      "\u001b[1;31m---------------------------------------------------------------------------\u001b[0m",
      "\u001b[1;31mNameError\u001b[0m                                 Traceback (most recent call last)",
      "Cell \u001b[1;32mIn[9], line 1\u001b[0m\n\u001b[1;32m----> 1\u001b[0m ls\u001b[38;5;241m.\u001b[39mremove(\u001b[38;5;241m51\u001b[39m)\n",
      "\u001b[1;31mNameError\u001b[0m: name 'ls' is not defined"
     ]
    }
   ],
   "source": [
    "ls.remove(51)\n",
    "\n",
    "\n",
    "\n"
   ]
  },
  {
   "cell_type": "code",
   "execution_count": 32,
   "id": "63527327-48e8-4735-becb-0fc3801af4f4",
   "metadata": {},
   "outputs": [
    {
     "data": {
      "text/plain": [
       "[2, 4, 5, 6, 7, 8, 9, 1, 21, 21, 1, 11, 1, 1, 1, 1, 11]"
      ]
     },
     "execution_count": 32,
     "metadata": {},
     "output_type": "execute_result"
    }
   ],
   "source": [
    "ls"
   ]
  },
  {
   "cell_type": "code",
   "execution_count": 34,
   "id": "07a2551e-9bbf-4e83-8e6b-2d0297c31229",
   "metadata": {},
   "outputs": [],
   "source": [
    "ls.insert(2,\"sujal\")\n",
    "\n"
   ]
  },
  {
   "cell_type": "code",
   "execution_count": 36,
   "id": "634f0d87-8df8-4b34-81c9-d9655bdf3084",
   "metadata": {},
   "outputs": [
    {
     "data": {
      "text/plain": [
       "[2, 4, 'sujal', 5, 6, 7, 8, 9, 1, 21, 21, 1, 11, 1, 1, 1, 1, 11]"
      ]
     },
     "execution_count": 36,
     "metadata": {},
     "output_type": "execute_result"
    }
   ],
   "source": [
    "ls"
   ]
  },
  {
   "cell_type": "code",
   "execution_count": 38,
   "id": "01872493-a111-4278-81dc-640939f634fa",
   "metadata": {},
   "outputs": [],
   "source": [
    "ls.clear()"
   ]
  },
  {
   "cell_type": "code",
   "execution_count": 40,
   "id": "41a36bf4-3167-4603-8452-72e1b1f78878",
   "metadata": {},
   "outputs": [
    {
     "data": {
      "text/plain": [
       "[]"
      ]
     },
     "execution_count": 40,
     "metadata": {},
     "output_type": "execute_result"
    }
   ],
   "source": [
    "ls"
   ]
  },
  {
   "cell_type": "code",
   "execution_count": 42,
   "id": "eaf4375c-7953-4927-9029-a56e6b87acab",
   "metadata": {},
   "outputs": [],
   "source": [
    "ls = [2,4,5,6,4,5,6,7]"
   ]
  },
  {
   "cell_type": "code",
   "execution_count": 46,
   "id": "093415ae-cf87-4e6a-8104-fcd8c18cd6ac",
   "metadata": {},
   "outputs": [],
   "source": [
    "ls.sort()"
   ]
  },
  {
   "cell_type": "code",
   "execution_count": 48,
   "id": "8c010348-2ff0-4327-9bf4-236e3342957c",
   "metadata": {},
   "outputs": [
    {
     "data": {
      "text/plain": [
       "[2, 4, 4, 5, 5, 6, 6, 7]"
      ]
     },
     "execution_count": 48,
     "metadata": {},
     "output_type": "execute_result"
    }
   ],
   "source": [
    "ls"
   ]
  },
  {
   "cell_type": "code",
   "execution_count": 50,
   "id": "87bc6a39-56e6-4dda-8973-7e58e05de5d1",
   "metadata": {},
   "outputs": [],
   "source": [
    "ls.sort(reverse=False)\n",
    "\n"
   ]
  },
  {
   "cell_type": "code",
   "execution_count": 52,
   "id": "7981b08c-d601-48dd-b900-443307b03563",
   "metadata": {},
   "outputs": [
    {
     "data": {
      "text/plain": [
       "[2, 4, 4, 5, 5, 6, 6, 7]"
      ]
     },
     "execution_count": 52,
     "metadata": {},
     "output_type": "execute_result"
    }
   ],
   "source": [
    "ls\n"
   ]
  },
  {
   "cell_type": "code",
   "execution_count": 56,
   "id": "53f4415e-6e71-40b2-8301-df7c9b0b3a4c",
   "metadata": {},
   "outputs": [],
   "source": [
    "ls.sort(reverse=True)"
   ]
  },
  {
   "cell_type": "code",
   "execution_count": 58,
   "id": "22d5fa75-5c79-46e4-8a70-63444d804b09",
   "metadata": {},
   "outputs": [
    {
     "data": {
      "text/plain": [
       "[7, 6, 6, 5, 5, 4, 4, 2]"
      ]
     },
     "execution_count": 58,
     "metadata": {},
     "output_type": "execute_result"
    }
   ],
   "source": [
    "ls"
   ]
  },
  {
   "cell_type": "code",
   "execution_count": 3,
   "id": "fbb79fde-8604-463a-856f-0db197c487ac",
   "metadata": {},
   "outputs": [],
   "source": [
    "#operators :\n",
    "#Arithmetic operators : +,-,*,/,&,**"
   ]
  },
  {
   "cell_type": "code",
   "execution_count": 5,
   "id": "24c49c1c-9adc-46ce-a9b4-8c1addb91528",
   "metadata": {},
   "outputs": [],
   "source": [
    "x = 50\n",
    "y = 50"
   ]
  },
  {
   "cell_type": "code",
   "execution_count": 7,
   "id": "4f39215d-764b-4e07-947d-578cbf52003a",
   "metadata": {},
   "outputs": [
    {
     "data": {
      "text/plain": [
       "100"
      ]
     },
     "execution_count": 7,
     "metadata": {},
     "output_type": "execute_result"
    }
   ],
   "source": [
    "x + y"
   ]
  },
  {
   "cell_type": "code",
   "execution_count": 9,
   "id": "a6cbfbe9-8241-4c3f-86fb-c52c13ab6c88",
   "metadata": {},
   "outputs": [
    {
     "data": {
      "text/plain": [
       "0"
      ]
     },
     "execution_count": 9,
     "metadata": {},
     "output_type": "execute_result"
    }
   ],
   "source": [
    "x - y"
   ]
  },
  {
   "cell_type": "code",
   "execution_count": 11,
   "id": "0b79c100-003c-4cee-8b0e-647e4999245e",
   "metadata": {},
   "outputs": [
    {
     "data": {
      "text/plain": [
       "2500"
      ]
     },
     "execution_count": 11,
     "metadata": {},
     "output_type": "execute_result"
    }
   ],
   "source": [
    "x * y"
   ]
  },
  {
   "cell_type": "code",
   "execution_count": 13,
   "id": "bf033c74-9f53-4a38-b7e5-330ace5a723d",
   "metadata": {},
   "outputs": [
    {
     "data": {
      "text/plain": [
       "1.0"
      ]
     },
     "execution_count": 13,
     "metadata": {},
     "output_type": "execute_result"
    }
   ],
   "source": [
    "x / y"
   ]
  },
  {
   "cell_type": "code",
   "execution_count": 15,
   "id": "3bf9289d-2b54-4bff-b5a1-95f524283f38",
   "metadata": {},
   "outputs": [
    {
     "data": {
      "text/plain": [
       "0"
      ]
     },
     "execution_count": 15,
     "metadata": {},
     "output_type": "execute_result"
    }
   ],
   "source": [
    "x % y\n"
   ]
  },
  {
   "cell_type": "code",
   "execution_count": 17,
   "id": "6a9cb640-6214-4946-8389-cc050282099d",
   "metadata": {},
   "outputs": [
    {
     "data": {
      "text/plain": [
       "1"
      ]
     },
     "execution_count": 17,
     "metadata": {},
     "output_type": "execute_result"
    }
   ],
   "source": [
    "x // y"
   ]
  },
  {
   "cell_type": "code",
   "execution_count": 19,
   "id": "ab6da81d-cbab-4663-b778-8036dc79d999",
   "metadata": {},
   "outputs": [],
   "source": [
    "#Relational operator : >,<,>=,<=,!="
   ]
  },
  {
   "cell_type": "code",
   "execution_count": 23,
   "id": "b52c600e-cd26-430e-907c-88d9b865b3cb",
   "metadata": {},
   "outputs": [
    {
     "name": "stdin",
     "output_type": "stream",
     "text": [
      "Enter value of x : 25\n",
      "Enter value of y : 25\n"
     ]
    },
    {
     "name": "stdout",
     "output_type": "stream",
     "text": [
      "x is equals to y : True\n",
      "x is not equals to y : False\n",
      "x is greater than equals to y: True\n"
     ]
    },
    {
     "ename": "NameError",
     "evalue": "name 'printt' is not defined",
     "output_type": "error",
     "traceback": [
      "\u001b[1;31m---------------------------------------------------------------------------\u001b[0m",
      "\u001b[1;31mNameError\u001b[0m                                 Traceback (most recent call last)",
      "Cell \u001b[1;32mIn[23], line 7\u001b[0m\n\u001b[0;32m      5\u001b[0m \u001b[38;5;28mprint\u001b[39m(\u001b[38;5;124mf\u001b[39m\u001b[38;5;124m\"\u001b[39m\u001b[38;5;124mx is not equals to y : \u001b[39m\u001b[38;5;132;01m{\u001b[39;00mx\u001b[38;5;250m \u001b[39m\u001b[38;5;241m!=\u001b[39my\u001b[38;5;132;01m}\u001b[39;00m\u001b[38;5;124m\"\u001b[39m)\n\u001b[0;32m      6\u001b[0m \u001b[38;5;28mprint\u001b[39m(\u001b[38;5;124mf\u001b[39m\u001b[38;5;124m\"\u001b[39m\u001b[38;5;124mx is greater than equals to y: \u001b[39m\u001b[38;5;132;01m{\u001b[39;00mx\u001b[38;5;250m \u001b[39m\u001b[38;5;241m>\u001b[39m\u001b[38;5;241m=\u001b[39m\u001b[38;5;250m \u001b[39my\u001b[38;5;132;01m}\u001b[39;00m\u001b[38;5;124m\"\u001b[39m)\n\u001b[1;32m----> 7\u001b[0m printt(\u001b[38;5;124mf\u001b[39m\u001b[38;5;124m\"\u001b[39m\u001b[38;5;124mx is less than equals to y : \u001b[39m\u001b[38;5;132;01m{\u001b[39;00mx\u001b[38;5;250m \u001b[39m\u001b[38;5;241m<\u001b[39m\u001b[38;5;241m=\u001b[39m\u001b[38;5;250m \u001b[39my\u001b[38;5;132;01m}\u001b[39;00m\u001b[38;5;124m\"\u001b[39m)\n",
      "\u001b[1;31mNameError\u001b[0m: name 'printt' is not defined"
     ]
    }
   ],
   "source": [
    "x = int(input(\"Enter value of x :\"))\n",
    "y = int(input(\"Enter value of y :\"))\n",
    "\n",
    "print(f\"x is equals to y : {x==y}\")\n",
    "print(f\"x is not equals to y : {x !=y}\")\n",
    "print(f\"x is greater than equals to y: {x >= y}\")\n",
    "printt(f\"x is less than equals to y : {x <= y}\")"
   ]
  },
  {
   "cell_type": "code",
   "execution_count": 25,
   "id": "a1cc7c2e-0aa5-4f86-9a24-ef9790cac4e9",
   "metadata": {},
   "outputs": [],
   "source": [
    "#logical operator : and,or,not\n",
    "\n"
   ]
  },
  {
   "cell_type": "code",
   "execution_count": 27,
   "id": "31be3b5f-28e4-4310-a70a-0bc1fc3e291d",
   "metadata": {},
   "outputs": [
    {
     "data": {
      "text/plain": [
       "True"
      ]
     },
     "execution_count": 27,
     "metadata": {},
     "output_type": "execute_result"
    }
   ],
   "source": [
    "True or True"
   ]
  },
  {
   "cell_type": "code",
   "execution_count": 29,
   "id": "bec42c16-f3c9-4b93-9d58-d3eed3d852bf",
   "metadata": {},
   "outputs": [
    {
     "data": {
      "text/plain": [
       "True"
      ]
     },
     "execution_count": 29,
     "metadata": {},
     "output_type": "execute_result"
    }
   ],
   "source": [
    "True or False"
   ]
  },
  {
   "cell_type": "code",
   "execution_count": 33,
   "id": "2d972a9a-98d8-4daf-b097-cd6377ae8725",
   "metadata": {},
   "outputs": [
    {
     "data": {
      "text/plain": [
       "False"
      ]
     },
     "execution_count": 33,
     "metadata": {},
     "output_type": "execute_result"
    }
   ],
   "source": [
    "False or False\n",
    "\n"
   ]
  },
  {
   "cell_type": "code",
   "execution_count": 35,
   "id": "e22037f7-e52b-496d-a360-0d381a17a5e5",
   "metadata": {},
   "outputs": [
    {
     "data": {
      "text/plain": [
       "True"
      ]
     },
     "execution_count": 35,
     "metadata": {},
     "output_type": "execute_result"
    }
   ],
   "source": [
    "True or True"
   ]
  },
  {
   "cell_type": "code",
   "execution_count": 37,
   "id": "bcf91b13-b883-451e-a9da-44dbae1cfc3a",
   "metadata": {},
   "outputs": [
    {
     "data": {
      "text/plain": [
       "True"
      ]
     },
     "execution_count": 37,
     "metadata": {},
     "output_type": "execute_result"
    }
   ],
   "source": [
    "False or True"
   ]
  },
  {
   "cell_type": "code",
   "execution_count": 39,
   "id": "2fdb1ac0-d5af-4db8-bde7-b002aeaf0551",
   "metadata": {},
   "outputs": [
    {
     "data": {
      "text/plain": [
       "True"
      ]
     },
     "execution_count": 39,
     "metadata": {},
     "output_type": "execute_result"
    }
   ],
   "source": [
    "True or True"
   ]
  },
  {
   "cell_type": "code",
   "execution_count": 41,
   "id": "d3b02dcf-b55b-474c-907a-39f5a86bade9",
   "metadata": {},
   "outputs": [
    {
     "data": {
      "text/plain": [
       "False"
      ]
     },
     "execution_count": 41,
     "metadata": {},
     "output_type": "execute_result"
    }
   ],
   "source": [
    "not True"
   ]
  },
  {
   "cell_type": "code",
   "execution_count": 43,
   "id": "2308f4c4-d654-4e4d-a960-2b23629ff1ab",
   "metadata": {},
   "outputs": [
    {
     "data": {
      "text/plain": [
       "True"
      ]
     },
     "execution_count": 43,
     "metadata": {},
     "output_type": "execute_result"
    }
   ],
   "source": [
    "not False"
   ]
  },
  {
   "cell_type": "code",
   "execution_count": 45,
   "id": "c8cb55e5-0c4d-4b35-975f-456fa9475db7",
   "metadata": {},
   "outputs": [
    {
     "data": {
      "text/plain": [
       "True"
      ]
     },
     "execution_count": 45,
     "metadata": {},
     "output_type": "execute_result"
    }
   ],
   "source": [
    "True ^ False\n",
    "\n"
   ]
  },
  {
   "cell_type": "code",
   "execution_count": 47,
   "id": "f380c9ca-a35e-4c36-a603-b48d62b24440",
   "metadata": {},
   "outputs": [
    {
     "data": {
      "text/plain": [
       "True"
      ]
     },
     "execution_count": 47,
     "metadata": {},
     "output_type": "execute_result"
    }
   ],
   "source": [
    "False ^ True"
   ]
  },
  {
   "cell_type": "code",
   "execution_count": 49,
   "id": "70619ef0-e475-408b-8082-ef678af7fe38",
   "metadata": {},
   "outputs": [
    {
     "data": {
      "text/plain": [
       "False"
      ]
     },
     "execution_count": 49,
     "metadata": {},
     "output_type": "execute_result"
    }
   ],
   "source": [
    "True ^ True"
   ]
  },
  {
   "cell_type": "code",
   "execution_count": 51,
   "id": "4927bc49-8402-4845-9e8e-7223dcf95f3a",
   "metadata": {},
   "outputs": [
    {
     "data": {
      "text/plain": [
       "False"
      ]
     },
     "execution_count": 51,
     "metadata": {},
     "output_type": "execute_result"
    }
   ],
   "source": [
    "False ^ False\n"
   ]
  },
  {
   "cell_type": "code",
   "execution_count": 53,
   "id": "15971135-9308-478b-afe7-6cf3d57fd677",
   "metadata": {},
   "outputs": [
    {
     "data": {
      "text/plain": [
       "True"
      ]
     },
     "execution_count": 53,
     "metadata": {},
     "output_type": "execute_result"
    }
   ],
   "source": [
    "not (not True)\n",
    "\n"
   ]
  },
  {
   "cell_type": "code",
   "execution_count": 55,
   "id": "b55298e6-4720-4f65-8ad0-a540963d1a30",
   "metadata": {},
   "outputs": [
    {
     "data": {
      "text/plain": [
       "False"
      ]
     },
     "execution_count": 55,
     "metadata": {},
     "output_type": "execute_result"
    }
   ],
   "source": [
    "not (not False)"
   ]
  },
  {
   "cell_type": "code",
   "execution_count": 57,
   "id": "e05a692d-7898-45ff-94fa-d44a484a3eb0",
   "metadata": {},
   "outputs": [],
   "source": [
    "#Bitwise operator : &,|,~\n"
   ]
  },
  {
   "cell_type": "code",
   "execution_count": 59,
   "id": "03daa5b8-1290-479d-93c1-e636bad20d69",
   "metadata": {},
   "outputs": [],
   "source": [
    "#Ternary operator :\n"
   ]
  },
  {
   "cell_type": "code",
   "execution_count": 61,
   "id": "144d25a8-2e6b-4700-8aa3-420c46af5511",
   "metadata": {},
   "outputs": [
    {
     "name": "stdin",
     "output_type": "stream",
     "text": [
      "additon one number 25\n",
      "addition second number 25\n"
     ]
    },
    {
     "name": "stdout",
     "output_type": "stream",
     "text": [
      "Addition of two numbers are : 50\n"
     ]
    }
   ],
   "source": [
    "x = int(input(\"additon one number\"))\n",
    "y = int(input(\"addition second number\"))\n",
    "\n",
    "z = x + y\n",
    "\n",
    "print(f'Addition of two numbers are : {z}')\n",
    "        "
   ]
  },
  {
   "cell_type": "code",
   "execution_count": 63,
   "id": "61620280-7e2c-444a-bd3b-861c56bd2d5e",
   "metadata": {},
   "outputs": [
    {
     "name": "stdin",
     "output_type": "stream",
     "text": [
      "subtraction one number 25\n",
      "subtraction of second number 25\n"
     ]
    },
    {
     "name": "stdout",
     "output_type": "stream",
     "text": [
      " subtraction of two number are : 0\n"
     ]
    }
   ],
   "source": [
    "x = int(input(\"subtraction one number\"))\n",
    "y = int(input(\"subtraction of second number\"))\n",
    "\n",
    "z = x - y\n",
    "\n",
    "print(f' subtraction of two number are : {z}')\n"
   ]
  },
  {
   "cell_type": "code",
   "execution_count": 65,
   "id": "cb9980e1-8d94-4996-b9c4-73b7b55baf35",
   "metadata": {},
   "outputs": [
    {
     "name": "stdin",
     "output_type": "stream",
     "text": [
      "multiplication one numberer 25\n",
      "multiplication two number 25\n"
     ]
    },
    {
     "name": "stdout",
     "output_type": "stream",
     "text": [
      " multiplication of two number are : 625\n"
     ]
    }
   ],
   "source": [
    "x = int(input (\"multiplication one number\"))\n",
    "y = int (input (\"multiplication two number\"))\n",
    "\n",
    "z = x * y\n",
    "\n",
    "print (f' multiplication of two number are : {z}')"
   ]
  },
  {
   "cell_type": "code",
   "execution_count": 67,
   "id": "51bf5fe4-c545-4b2f-b2d7-f3616a0806e6",
   "metadata": {},
   "outputs": [
    {
     "name": "stdin",
     "output_type": "stream",
     "text": [
      "division one number 25\n",
      "division two number  25\n"
     ]
    },
    {
     "name": "stdout",
     "output_type": "stream",
     "text": [
      " division of two number are : 1.0\n"
     ]
    }
   ],
   "source": [
    "x = int (input (\"division one number\"))\n",
    "y = int (input (\"division two number \"))\n",
    "\n",
    "z = x / y\n",
    "\n",
    "print (f' division of two number are : {z}')"
   ]
  },
  {
   "cell_type": "code",
   "execution_count": 5,
   "id": "0153b794-5458-4647-bf36-b98e7783ec3e",
   "metadata": {},
   "outputs": [
    {
     "name": "stdin",
     "output_type": "stream",
     "text": [
      "multiplication one number 23\n",
      "multipliocation two number 23\n"
     ]
    },
    {
     "name": "stdout",
     "output_type": "stream",
     "text": [
      " multiplication of two number are : 529\n"
     ]
    }
   ],
   "source": [
    "x = int (input (\"multiplication one number\"))\n",
    "y = int (input (\"multipliocation two number\"))\n",
    "\n",
    "z = x * y\n",
    "\n",
    "print (f' multiplication of two number are : {z}')"
   ]
  },
  {
   "cell_type": "code",
   "execution_count": 1,
   "id": "27fac83e-e0ce-4c94-afdb-9224ce657e95",
   "metadata": {},
   "outputs": [
    {
     "name": "stdin",
     "output_type": "stream",
     "text": [
      "multiplication one number 12\n",
      "multiplication of two number 12\n"
     ]
    },
    {
     "name": "stdout",
     "output_type": "stream",
     "text": [
      " multiplication of two number are : 144\n"
     ]
    }
   ],
   "source": [
    "x = int (input (\"multiplication one number\"))\n",
    "y = int (input (\"multiplication of two number\"))\n",
    "\n",
    "z = x * y\n",
    "\n",
    "print (f' multiplication of two number are : {z}')\n"
   ]
  },
  {
   "cell_type": "code",
   "execution_count": 5,
   "id": "6d1dabf5-a71f-4a3c-a54e-5ca79db00e5d",
   "metadata": {},
   "outputs": [
    {
     "name": "stdin",
     "output_type": "stream",
     "text": [
      "add one number 34\n",
      "add two number 43\n"
     ]
    },
    {
     "name": "stdout",
     "output_type": "stream",
     "text": [
      " add of two number are : 77\n"
     ]
    }
   ],
   "source": [
    "x = int (input (\"add one number\"))\n",
    "y = int (input (\"add two number\"))\n",
    "\n",
    "z = x + y\n",
    "\n",
    "print (f' add of two number are : {z}')\n"
   ]
  },
  {
   "cell_type": "code",
   "execution_count": 1,
   "id": "3dac9ed1-cedf-4e13-afc7-230aad11725d",
   "metadata": {},
   "outputs": [],
   "source": [
    "#python :"
   ]
  },
  {
   "cell_type": "code",
   "execution_count": 3,
   "id": "30cf7382-070e-4869-a80c-29946a0f725c",
   "metadata": {},
   "outputs": [],
   "source": [
    "#data structure: list,tuple,set,dictionary"
   ]
  },
  {
   "cell_type": "code",
   "execution_count": 5,
   "id": "00f1983b-8e80-46b0-ad13-f671cb22cea7",
   "metadata": {},
   "outputs": [],
   "source": [
    "# <class 'str'>\n",
    "# <class 'int'>\n",
    "# <class 'float'>\n",
    "# <class 'bool'>\n",
    "# <class 'list'>\n",
    "# <class 'tuple'>\n",
    "# <class 'set'>\n",
    "#input()"
   ]
  },
  {
   "cell_type": "code",
   "execution_count": 7,
   "id": "8efb75c4-50be-464e-86df-a9f9ff669aa3",
   "metadata": {},
   "outputs": [],
   "source": [
    "#input()"
   ]
  },
  {
   "cell_type": "code",
   "execution_count": 9,
   "id": "3f4c914f-fd60-4d31-afa2-e795d3da513c",
   "metadata": {},
   "outputs": [],
   "source": [
    "# name = \"sujal\"\n"
   ]
  },
  {
   "cell_type": "code",
   "execution_count": 11,
   "id": "725ad561-081d-4ad8-b14c-0f4ad255df8a",
   "metadata": {},
   "outputs": [],
   "source": [
    "# print(type(name))"
   ]
  },
  {
   "cell_type": "code",
   "execution_count": 13,
   "id": "ca59a8d3-2a93-4b84-8be8-50564fb4ab87",
   "metadata": {},
   "outputs": [],
   "source": [
    "# age = 21\n"
   ]
  },
  {
   "cell_type": "code",
   "execution_count": 15,
   "id": "7eef68ab-480e-4a5b-8544-9bfa5f168f72",
   "metadata": {},
   "outputs": [],
   "source": [
    "# print(type(age))\n"
   ]
  },
  {
   "cell_type": "code",
   "execution_count": 17,
   "id": "8e36f927-a5a1-4149-ba5b-d813eca472c6",
   "metadata": {},
   "outputs": [],
   "source": [
    "# salary = 65000.65"
   ]
  },
  {
   "cell_type": "code",
   "execution_count": 19,
   "id": "61035cc2-a0e8-4585-8a57-f6d71887e3c0",
   "metadata": {},
   "outputs": [],
   "source": [
    "# print(type(salary))"
   ]
  },
  {
   "cell_type": "code",
   "execution_count": 21,
   "id": "5a6d25e9-3bf3-416a-83a2-89e439a4e0fc",
   "metadata": {},
   "outputs": [],
   "source": [
    "# ismale = true\n"
   ]
  },
  {
   "cell_type": "code",
   "execution_count": 23,
   "id": "e66ae388-ae4c-4706-9818-92ab1b67dfef",
   "metadata": {},
   "outputs": [],
   "source": [
    "# print(type(ismale))"
   ]
  },
  {
   "cell_type": "code",
   "execution_count": 25,
   "id": "25342c42-1cb5-4dfb-a051-8d895029d3cf",
   "metadata": {},
   "outputs": [],
   "source": [
    "# print(id(age))"
   ]
  },
  {
   "cell_type": "code",
   "execution_count": 27,
   "id": "36457b29-05d7-47d3-95a3-d463b4f31144",
   "metadata": {},
   "outputs": [],
   "source": [
    "# print(id(salary))\n",
    "\n",
    "\n",
    "\n",
    "\n"
   ]
  },
  {
   "cell_type": "code",
   "execution_count": 29,
   "id": "645c79cd-fc6c-42f0-8a5c-5db42e85a08d",
   "metadata": {},
   "outputs": [],
   "source": [
    "# print(id(ismale))\n"
   ]
  },
  {
   "cell_type": "code",
   "execution_count": 31,
   "id": "c6e6d6d8-d98c-46d7-ae9e-b855b80e8598",
   "metadata": {},
   "outputs": [],
   "source": [
    "# movies = [\"raz\", \"sujal\", 25000,65000,78000.76,true,false] #list"
   ]
  },
  {
   "cell_type": "code",
   "execution_count": 33,
   "id": "fb0dba12-a486-4d6e-96b1-d2b509345863",
   "metadata": {},
   "outputs": [],
   "source": [
    "# print(type(movies))"
   ]
  },
  {
   "cell_type": "code",
   "execution_count": 35,
   "id": "6104c2f1-29a0-4c6e-be8c-f6370be8e247",
   "metadata": {},
   "outputs": [],
   "source": [
    "# movieprice = (25,56,78,87,300)"
   ]
  },
  {
   "cell_type": "code",
   "execution_count": 37,
   "id": "b14bcd79-5231-4fff-9a1f-08c5c9c3767a",
   "metadata": {},
   "outputs": [],
   "source": [
    "# print(type(movieprice))\n",
    "\n"
   ]
  },
  {
   "cell_type": "code",
   "execution_count": 39,
   "id": "65630f0b-1e41-44c2-98a0-c3a6c5cc3da0",
   "metadata": {},
   "outputs": [],
   "source": [
    "# data ={1,2,3,2,1,1,1,2,2,3,4,5,6,6,7,8,3,5,6,}"
   ]
  },
  {
   "cell_type": "code",
   "execution_count": 41,
   "id": "d6e62c56-34bf-45ca-bdaa-4af8d64a56df",
   "metadata": {},
   "outputs": [],
   "source": [
    "# print(type(data))\n",
    "\n"
   ]
  },
  {
   "cell_type": "code",
   "execution_count": 43,
   "id": "2f16b554-c9a1-4aa6-8b1c-38e5d5a1d132",
   "metadata": {},
   "outputs": [],
   "source": [
    "# print(data))\n",
    "\n"
   ]
  },
  {
   "cell_type": "code",
   "execution_count": 45,
   "id": "c642e1bb-13fc-4e17-a659-1a654ce39208",
   "metadata": {},
   "outputs": [],
   "source": [
    "# print(data)\n",
    "\n",
    "\n"
   ]
  },
  {
   "cell_type": "code",
   "execution_count": 47,
   "id": "ce8effa1-fa07-43c8-af29-c2d8d3b9aea1",
   "metadata": {},
   "outputs": [],
   "source": [
    "# print (data)"
   ]
  },
  {
   "cell_type": "code",
   "execution_count": 49,
   "id": "b8b8a4c1-66ef-4ccd-932a-3e9487acac9e",
   "metadata": {},
   "outputs": [],
   "source": [
    "#mv = {\"A\" : \"Ram\",\"B\" : \"Raj\", 25:\"sujal\"} "
   ]
  },
  {
   "cell_type": "code",
   "execution_count": 51,
   "id": "e9fc819e-351b-4f48-b184-d15a9ac5b2a3",
   "metadata": {},
   "outputs": [],
   "source": [
    "# print(type(mv))"
   ]
  },
  {
   "cell_type": "code",
   "execution_count": 53,
   "id": "701373d4-fba4-4ba4-9117-a44eae9f3f56",
   "metadata": {},
   "outputs": [],
   "source": [
    "# print(dir(mv))"
   ]
  },
  {
   "cell_type": "code",
   "execution_count": 55,
   "id": "39099cc2-8dea-42bb-b651-630a9d82691d",
   "metadata": {},
   "outputs": [],
   "source": [
    "# name = input(\"Enter your name: \")"
   ]
  },
  {
   "cell_type": "code",
   "execution_count": 57,
   "id": "c0dfe40f-7aa9-4cd4-a6c7-f08fc6322442",
   "metadata": {},
   "outputs": [],
   "source": [
    "# age = input(\" Enter your age: \")\n",
    "\n"
   ]
  },
  {
   "cell_type": "code",
   "execution_count": 59,
   "id": "98093c00-3b32-4bb3-9f24-194757b85748",
   "metadata": {},
   "outputs": [],
   "source": [
    "# print(f\"Welcome {name} your age is {age} years\")"
   ]
  },
  {
   "cell_type": "code",
   "execution_count": 61,
   "id": "da99963c-ec39-4052-9470-1ecf4837d466",
   "metadata": {},
   "outputs": [],
   "source": [
    "# name = \"sujal\"\n"
   ]
  },
  {
   "cell_type": "code",
   "execution_count": 63,
   "id": "3402d1e9-dbf6-4b50-8792-cbaa4d42b094",
   "metadata": {},
   "outputs": [],
   "source": [
    "# age = \"24\"\n",
    "\n"
   ]
  },
  {
   "cell_type": "code",
   "execution_count": 65,
   "id": "bc7eba13-9758-47c8-ae47-0602e1cd5d34",
   "metadata": {},
   "outputs": [],
   "source": [
    "# full_name = name + age"
   ]
  },
  {
   "cell_type": "code",
   "execution_count": 67,
   "id": "6759abaa-1bdb-44bf-b9c5-764afbb2d930",
   "metadata": {},
   "outputs": [],
   "source": [
    "# print(full_name)"
   ]
  },
  {
   "cell_type": "code",
   "execution_count": 69,
   "id": "9da056da-df44-4ad5-be67-edcdcc166b22",
   "metadata": {},
   "outputs": [],
   "source": [
    "# print(\"welcome \"+name+\" \"+age + \" years\")"
   ]
  },
  {
   "cell_type": "code",
   "execution_count": 71,
   "id": "2899268a-abcb-4059-bbda-4e65987f04be",
   "metadata": {},
   "outputs": [],
   "source": [
    "# x =  input(\"enter first name: \")"
   ]
  },
  {
   "cell_type": "code",
   "execution_count": 73,
   "id": "28fa9c75-edfe-4e3f-9d4e-46f6a48e75d9",
   "metadata": {},
   "outputs": [],
   "source": [
    "# y = input (\"enter second name: \")"
   ]
  },
  {
   "cell_type": "code",
   "execution_count": 75,
   "id": "dca0b3e5-89bf-4396-9570-d8f31444d430",
   "metadata": {},
   "outputs": [],
   "source": [
    "# add = x + y"
   ]
  },
  {
   "cell_type": "code",
   "execution_count": 77,
   "id": "a0dd340d-2639-4948-9af0-962115f61683",
   "metadata": {},
   "outputs": [],
   "source": [
    "# print(f\"Addition of two numbers are : {add}\")"
   ]
  },
  {
   "cell_type": "code",
   "execution_count": 79,
   "id": "30bce2b6-ba0a-40c7-bfcb-c59dc97d58a9",
   "metadata": {},
   "outputs": [],
   "source": [
    "# x = input(\"enter first number : \")"
   ]
  },
  {
   "cell_type": "code",
   "execution_count": 81,
   "id": "2b2de9e5-3ac9-42da-90c8-272b3bb64f7f",
   "metadata": {},
   "outputs": [],
   "source": [
    "# y = input(\"enter second number : \")"
   ]
  },
  {
   "cell_type": "code",
   "execution_count": 83,
   "id": "93fe792e-1332-412d-9b4a-848e5d8e5597",
   "metadata": {},
   "outputs": [],
   "source": [
    "# add = x + y"
   ]
  },
  {
   "cell_type": "code",
   "execution_count": 85,
   "id": "c0381834-9548-4f25-9270-8c3f1f89336e",
   "metadata": {},
   "outputs": [],
   "source": [
    "# print(f\"Addition of two numbers are : \"{add}\")"
   ]
  },
  {
   "cell_type": "code",
   "execution_count": 87,
   "id": "bcd150cc-be1b-4d15-8153-554dd3298a97",
   "metadata": {},
   "outputs": [],
   "source": [
    "# print(type(x))"
   ]
  },
  {
   "cell_type": "code",
   "execution_count": 89,
   "id": "7086526c-5222-47d0-8e6d-fff3d7a643b7",
   "metadata": {},
   "outputs": [],
   "source": [
    "# print(type(y))"
   ]
  },
  {
   "cell_type": "code",
   "execution_count": 91,
   "id": "cf45a1a7-ce7a-4d05-8b25-39f9e6181cef",
   "metadata": {},
   "outputs": [
    {
     "name": "stdin",
     "output_type": "stream",
     "text": [
      "enter first number :  23\n"
     ]
    }
   ],
   "source": [
    "x = int(input(\"enter first number : \"))"
   ]
  },
  {
   "cell_type": "code",
   "execution_count": 93,
   "id": "e8ef0ff5-86d9-41ea-ae98-98be7f83ad47",
   "metadata": {},
   "outputs": [
    {
     "name": "stdin",
     "output_type": "stream",
     "text": [
      "enter second number :  45\n"
     ]
    }
   ],
   "source": [
    "y = int(input(\"enter second number : \"))"
   ]
  },
  {
   "cell_type": "code",
   "execution_count": 95,
   "id": "9aa5cf07-b613-4571-bfea-8c4edcf42954",
   "metadata": {},
   "outputs": [],
   "source": [
    "add = x + y"
   ]
  },
  {
   "cell_type": "code",
   "execution_count": 97,
   "id": "4b11815d-27b7-4f00-953c-bcde4c39938a",
   "metadata": {},
   "outputs": [
    {
     "name": "stdout",
     "output_type": "stream",
     "text": [
      "addition of two numbers are : 68\n"
     ]
    }
   ],
   "source": [
    "print(f\"addition of two numbers are : {add}\")\n"
   ]
  },
  {
   "cell_type": "code",
   "execution_count": 99,
   "id": "48f7281c-cb2c-48ca-8c70-cdb7f128f4c2",
   "metadata": {},
   "outputs": [
    {
     "name": "stdout",
     "output_type": "stream",
     "text": [
      "<class 'int'>\n"
     ]
    }
   ],
   "source": [
    "print(type(x))"
   ]
  },
  {
   "cell_type": "code",
   "execution_count": 101,
   "id": "4893a290-641e-478e-9353-4f3f3a5eda17",
   "metadata": {},
   "outputs": [
    {
     "name": "stdout",
     "output_type": "stream",
     "text": [
      "<class 'int'>\n"
     ]
    }
   ],
   "source": [
    "print (type(y))"
   ]
  },
  {
   "cell_type": "code",
   "execution_count": 1,
   "id": "10edf991-97b5-45cc-9197-969f7fe36cb7",
   "metadata": {},
   "outputs": [
    {
     "name": "stdin",
     "output_type": "stream",
     "text": [
      "enter the length :  25\n",
      "enter the breadth :  25\n"
     ]
    },
    {
     "name": "stdout",
     "output_type": "stream",
     "text": [
      "area of rectangle is : 625\n"
     ]
    }
   ],
   "source": [
    "length = int(input(\"enter the length : \"))\n",
    "breadth = int(input(\"enter the breadth : \"))\n",
    "\n",
    "area_of_rectangle = length * breadth\n",
    "\n",
    "print(f\"area of rectangle is : {area_of_rectangle}\")\n"
   ]
  },
  {
   "cell_type": "code",
   "execution_count": 3,
   "id": "d11f9581-f9f6-4949-9345-ceb018aaddc7",
   "metadata": {},
   "outputs": [
    {
     "name": "stdin",
     "output_type": "stream",
     "text": [
      "enter the length :  25\n",
      "enter the breadth :  25\n"
     ]
    },
    {
     "name": "stdout",
     "output_type": "stream",
     "text": [
      "perimeter of rectangle is : 625\n"
     ]
    }
   ],
   "source": [
    "length = int(input(\"enter the length : \"))\n",
    "breadth = int(input(\"enter the breadth : \"))\n",
    "\n",
    "perimeter_of_rectangle = length * breadth\n",
    "\n",
    "print(f\"perimeter of rectangle is : {perimeter_of_rectangle}\")\n"
   ]
  },
  {
   "cell_type": "code",
   "execution_count": 5,
   "id": "a02d741f-7b6d-472f-b910-0b8fc6a38b08",
   "metadata": {},
   "outputs": [
    {
     "name": "stdin",
     "output_type": "stream",
     "text": [
      "enter side of square :  2\n"
     ]
    },
    {
     "name": "stdout",
     "output_type": "stream",
     "text": [
      "area_of_square is : 4\n"
     ]
    }
   ],
   "source": [
    "side = int(input(\"enter side of square : \"))\n",
    "\n",
    "area_of_square = side * side\n",
    "\n",
    "print(f\"area_of_square is : {area_of_square}\")"
   ]
  },
  {
   "cell_type": "code",
   "execution_count": 7,
   "id": "374cbf84-f321-4617-99d4-d71b3a17ee18",
   "metadata": {},
   "outputs": [
    {
     "name": "stdin",
     "output_type": "stream",
     "text": [
      "enter side of square :  2\n"
     ]
    },
    {
     "name": "stdout",
     "output_type": "stream",
     "text": [
      "perimeter_of_square is : 4\n"
     ]
    }
   ],
   "source": [
    "side = int(input(\"enter side of square : \"))\n",
    "\n",
    "perimeter_of_square = side * side\n",
    "\n",
    "print(f\"perimeter_of_square is : {perimeter_of_square}\")"
   ]
  },
  {
   "cell_type": "code",
   "execution_count": 11,
   "id": "0db55237-3bbd-4906-a2bd-288f68e1c99b",
   "metadata": {},
   "outputs": [
    {
     "name": "stdin",
     "output_type": "stream",
     "text": [
      "enter the base :  50\n",
      "enter the height :  10\n"
     ]
    },
    {
     "name": "stdout",
     "output_type": "stream",
     "text": [
      "area of triangle is : 250.0\n"
     ]
    }
   ],
   "source": [
    "base = float(input(\"enter the base : \" ))\n",
    "height = float(input(\"enter the height : \"))\n",
    "\n",
    "area_of_triangle = 0.5 * base * height\n",
    "\n",
    "print(f\"area of triangle is : {area_of_triangle}\")\n"
   ]
  },
  {
   "cell_type": "code",
   "execution_count": 15,
   "id": "e57b075e-146a-4358-b15c-4f11c1babf0c",
   "metadata": {},
   "outputs": [
    {
     "name": "stdin",
     "output_type": "stream",
     "text": [
      "enter the base :  2\n",
      "enter the height :  5\n",
      "enter the length :  4\n"
     ]
    },
    {
     "name": "stdout",
     "output_type": "stream",
     "text": [
      "perimeter of triangle is : 11.0\n"
     ]
    }
   ],
   "source": [
    "base = float(input(\"enter the base : \" ))\n",
    "height = float(input(\"enter the height : \"))\n",
    "length = float(input(\"enter the length : \"))\n",
    "\n",
    "perimeter_of_triangle = base + height + length\n",
    "\n",
    "print(f\"perimeter of triangle is : {perimeter_of_triangle}\")\n",
    "\n"
   ]
  },
  {
   "cell_type": "code",
   "execution_count": 17,
   "id": "c14ee6b0-e7f0-4e11-8941-c70db45d2d30",
   "metadata": {},
   "outputs": [
    {
     "name": "stdin",
     "output_type": "stream",
     "text": [
      "enter the base :  2\n",
      "enter the height :  5\n"
     ]
    },
    {
     "name": "stdout",
     "output_type": "stream",
     "text": [
      "perimeter of triangle is : 9.0\n"
     ]
    }
   ],
   "source": [
    "a = float(input(\"enter the base : \"))\n",
    "b = float(input(\"enter the height : \"))\n",
    "\n",
    "perimeter_of_triangle = (2*a+b)\n",
    "\n",
    "print(f\"perimeter of triangle is : {perimeter_of_triangle}\")"
   ]
  },
  {
   "cell_type": "code",
   "execution_count": 25,
   "id": "d1c8dbcb-98bf-4ab8-8522-955e5de6c1d5",
   "metadata": {},
   "outputs": [
    {
     "name": "stdin",
     "output_type": "stream",
     "text": [
      "enter the base :  55\n",
      "enter the height :  12\n",
      "enter the length :  54\n"
     ]
    },
    {
     "name": "stdout",
     "output_type": "stream",
     "text": [
      "perimeter of triangle is : 121.0\n"
     ]
    }
   ],
   "source": [
    "a = float(input(\"enter the base : \"))\n",
    "b = float(input(\"enter the height : \"))\n",
    "c = float(input(\"enter the length : \"))\n",
    "\n",
    "perimeter_of_triangle = (a+b+c)\n",
    "\n",
    "print(f\"perimeter of triangle is : {perimeter_of_triangle}\")"
   ]
  },
  {
   "cell_type": "code",
   "execution_count": 1,
   "id": "0fc4effc-28d0-4b6b-8479-c83052e12069",
   "metadata": {},
   "outputs": [
    {
     "name": "stdin",
     "output_type": "stream",
     "text": [
      "enter the base :  55\n",
      "enter the height :  14\n",
      "enter the length :  24\n"
     ]
    },
    {
     "name": "stdout",
     "output_type": "stream",
     "text": [
      "perimeter of triangle is : 93.0\n"
     ]
    }
   ],
   "source": [
    "a = float(input(\"enter the base : \"))\n",
    "b = float(input(\"enter the height : \"))\n",
    "c = float(input(\"enter the length : \"))\n",
    "\n",
    "perimeter_of_triangle = (a+b+c)\n",
    "\n",
    "print(f\"perimeter of triangle is : {perimeter_of_triangle}\")"
   ]
  },
  {
   "cell_type": "code",
   "execution_count": 1,
   "id": "8272e62a-a4a0-4261-8df9-a9efc5252755",
   "metadata": {},
   "outputs": [
    {
     "name": "stdout",
     "output_type": "stream",
     "text": [
      "1 2 3 4 5 6 7 8 9 10 11 12 13 14 15 16 17 18 19 20 "
     ]
    }
   ],
   "source": [
    "i= 1 \n",
    "while(i<=20):\n",
    "    print(i,end=\" \")\n",
    "    i=i+1"
   ]
  },
  {
   "cell_type": "code",
   "execution_count": 2,
   "id": "9c4dceaa-7335-43a0-bf4a-9357e70a41dc",
   "metadata": {},
   "outputs": [
    {
     "name": "stdout",
     "output_type": "stream",
     "text": [
      "2 4 6 8 10 12 14 16 18 20 "
     ]
    }
   ],
   "source": [
    "i = 1\n",
    "while(i<=20):\n",
    "    if(i%2==0):\n",
    "       print(i,end=\" \")\n",
    "    i=i+1    "
   ]
  },
  {
   "cell_type": "code",
   "execution_count": 10,
   "id": "ed286e37-24ac-4e3b-93d6-70d7926218f1",
   "metadata": {},
   "outputs": [
    {
     "name": "stdout",
     "output_type": "stream",
     "text": [
      "1 3 5 7 9 11 13 15 17 19 "
     ]
    }
   ],
   "source": [
    "i = 1\n",
    "while(i<=20):\n",
    "    if(i%2==1):\n",
    "       print(i,end=\" \")\n",
    "    i=i+1    "
   ]
  },
  {
   "cell_type": "code",
   "execution_count": 11,
   "id": "9bc6300f-2adb-46f4-8a1a-995be2594984",
   "metadata": {},
   "outputs": [
    {
     "name": "stdout",
     "output_type": "stream",
     "text": [
      "2 4 6 8 10 12 14 16 18 20 "
     ]
    }
   ],
   "source": [
    "i = 1\n",
    "while(i<=20):\n",
    "    if(i%2==0):\n",
    "       print(i,end=\" \")\n",
    "    i=i+1    "
   ]
  },
  {
   "cell_type": "code",
   "execution_count": 12,
   "id": "75e1b756-f298-4333-a104-aca4e71f0201",
   "metadata": {},
   "outputs": [
    {
     "name": "stdout",
     "output_type": "stream",
     "text": [
      "4 8 12 16 20 24 28 32 36 40 "
     ]
    }
   ],
   "source": [
    "i = 1\n",
    "while(i<=20):\n",
    "    if(i%2==0):\n",
    "       print(i*2,end=\" \")\n",
    "    i=i+1\n",
    "    "
   ]
  },
  {
   "cell_type": "code",
   "execution_count": 13,
   "id": "a611ad31-fc8e-49ba-87a4-91f652b04407",
   "metadata": {},
   "outputs": [
    {
     "name": "stdout",
     "output_type": "stream",
     "text": [
      "1 2 3 4 5 6 7 8 9 10 11 12 13 14 15 16 17 18 19 "
     ]
    }
   ],
   "source": [
    "#1------20\n",
    "for i in range(1,20):\n",
    "    print(i, end=\" \")"
   ]
  },
  {
   "cell_type": "code",
   "execution_count": 14,
   "id": "4ee36219-dbad-42d7-b3ad-5128c7476c99",
   "metadata": {},
   "outputs": [
    {
     "name": "stdout",
     "output_type": "stream",
     "text": [
      "2 4 6 8 10 12 14 16 18 "
     ]
    }
   ],
   "source": [
    "for i in range(1,20):\n",
    "    if(i%2==0):\n",
    "        print(i, end=\" \")\n",
    "        "
   ]
  },
  {
   "cell_type": "code",
   "execution_count": 15,
   "id": "d5536c3d-95a2-4d5b-8817-8bcdce76fc42",
   "metadata": {},
   "outputs": [
    {
     "name": "stdout",
     "output_type": "stream",
     "text": [
      "1 3 5 7 9 11 13 15 17 19 "
     ]
    }
   ],
   "source": [
    "for i in range(1,20):\n",
    "    if(i%2==1):\n",
    "        print(i, end=\" \")"
   ]
  },
  {
   "cell_type": "code",
   "execution_count": 16,
   "id": "689081a6-1699-4280-a6af-7ed70110784d",
   "metadata": {},
   "outputs": [
    {
     "name": "stdout",
     "output_type": "stream",
     "text": [
      "2 6 10 14 18 22 26 30 34 38 "
     ]
    }
   ],
   "source": [
    "for i in range(1,20):\n",
    "    if(i%2==1):\n",
    "        print(i*2, end=\" \")"
   ]
  },
  {
   "cell_type": "code",
   "execution_count": 17,
   "id": "0e835621-86f7-49c3-8038-9415fb631219",
   "metadata": {},
   "outputs": [
    {
     "name": "stdout",
     "output_type": "stream",
     "text": [
      "Addition of digits are : 210\n"
     ]
    }
   ],
   "source": [
    "i=1\n",
    "add = 0\n",
    "while(i<=20):\n",
    "    add = add + i\n",
    "    i=i+1\n",
    "print(f\"Addition of digits are : {add}\")"
   ]
  },
  {
   "cell_type": "code",
   "execution_count": 18,
   "id": "9e16b9a9-2f90-49d6-8841-6094e1e38d0f",
   "metadata": {},
   "outputs": [
    {
     "name": "stdout",
     "output_type": "stream",
     "text": [
      "Addition of digits are : 55\n"
     ]
    }
   ],
   "source": [
    "i=1\n",
    "add = 0\n",
    "while(i<=10):\n",
    "    add = add + i\n",
    "    i=i+1\n",
    "print(f\"Addition of digits are : {add}\")"
   ]
  },
  {
   "cell_type": "code",
   "execution_count": 20,
   "id": "460d6132-2ab3-4fe5-b1a8-9b3ab95bc9dc",
   "metadata": {},
   "outputs": [
    {
     "name": "stdin",
     "output_type": "stream",
     "text": [
      "Enter the number  :  254\n"
     ]
    },
    {
     "name": "stdout",
     "output_type": "stream",
     "text": [
      "Reverse of number is  :  452\n"
     ]
    }
   ],
   "source": [
    "#reverse of number  : 254  : 452\n",
    "\n",
    "n = int(input(\"Enter the number  : \")) # 254\n",
    "rev = 0\n",
    "rem = 0\n",
    "while(n>0):\n",
    "   rem = n % 10  #4\n",
    "   rev = rev * 10 + rem\n",
    "   n  = n // 10\n",
    "print(f\"Reverse of number is  :  {rev}\")\n"
   ]
  },
  {
   "cell_type": "code",
   "execution_count": 21,
   "id": "54861b88-707d-4895-a368-e11df3629ced",
   "metadata": {},
   "outputs": [
    {
     "name": "stdout",
     "output_type": "stream",
     "text": [
      "Addition of digits are : 0\n"
     ]
    }
   ],
   "source": [
    "i=1\n",
    "add = 0\n",
    "while(n>20):\n",
    "    add = add - i\n",
    "    i=i+1\n",
    "print(f\"Addition of digits are : {add}\")    "
   ]
  },
  {
   "cell_type": "code",
   "execution_count": 22,
   "id": "d89f16c6-7148-443e-9b10-159c09f1cb11",
   "metadata": {},
   "outputs": [
    {
     "name": "stdout",
     "output_type": "stream",
     "text": [
      "multiplication of digits are : 0\n"
     ]
    }
   ],
   "source": [
    "i=1\n",
    "mul = 1\n",
    "while(n>20):\n",
    "    add = mul * i\n",
    "    i=i+1\n",
    "print(f\"multiplication of digits are : {add}\")    "
   ]
  },
  {
   "cell_type": "code",
   "execution_count": 23,
   "id": "268b9367-ceb1-4027-bb47-9641ef6fd637",
   "metadata": {},
   "outputs": [
    {
     "name": "stdout",
     "output_type": "stream",
     "text": [
      "division of digits are : 1\n"
     ]
    }
   ],
   "source": [
    "i=1\n",
    "div = 1\n",
    "while(i<=20):\n",
    "    add = div / i\n",
    "    i=i+1\n",
    "print(f\"division of digits are : {div}\")    "
   ]
  },
  {
   "cell_type": "code",
   "execution_count": 1,
   "id": "ee84e379-ed81-45c7-9448-eeb578df57c9",
   "metadata": {},
   "outputs": [
    {
     "name": "stdout",
     "output_type": "stream",
     "text": [
      "<class 'list'>\n",
      "['p', 'y', 't', 'h', 'o', 'n', ' ', 'p', 'r', 'o', 'g', 'r', 'a', 'm', 'm', 'i', 'n', 'g', ' ', 'l', 'a', 'n', 'g', 'u', 'a', 'g', 'e']\n"
     ]
    }
   ],
   "source": [
    "#list comprehension  :\n",
    "language = \"python programming language\"\n",
    "\n",
    "data = list(language)\n",
    "\n",
    "print(type(data))\n",
    "print(data)"
   ]
  },
  {
   "cell_type": "code",
   "execution_count": 2,
   "id": "d56665a9-e756-4420-8f60-74a5e58cb8c1",
   "metadata": {},
   "outputs": [
    {
     "name": "stdout",
     "output_type": "stream",
     "text": [
      "<class 'list'>\n",
      "['p', 'y', 't', 'h', 'o', 'n', ' ', 'p', 'r', 'o', 'g', 'r', 'a', 'm', 'm', 'i', 'n', 'g', ' ', 'l', 'a', 'n', 'g', 'u', 'a', 'g', 'e']\n"
     ]
    }
   ],
   "source": [
    "data = [i for i in language]\n",
    "\n",
    "print(type(data))\n",
    "\n",
    "print(data)\n"
   ]
  },
  {
   "cell_type": "code",
   "execution_count": 3,
   "id": "165566d6-e71b-42fd-a000-850054db437b",
   "metadata": {},
   "outputs": [
    {
     "name": "stdout",
     "output_type": "stream",
     "text": [
      "[0, 1, 2, 3, 4, 5, 6, 7, 8, 9, 10]\n"
     ]
    }
   ],
   "source": [
    "#range(start, stop, step)\n",
    "numbers = [i for i in range(11)]\n",
    "\n",
    "print(numbers)"
   ]
  },
  {
   "cell_type": "code",
   "execution_count": 5,
   "id": "329d90ce-604d-43d2-96d9-b2d599f12452",
   "metadata": {},
   "outputs": [
    {
     "name": "stdout",
     "output_type": "stream",
     "text": [
      "[1, 2, 3, 4, 5, 6, 7, 8, 9, 10]\n"
     ]
    }
   ],
   "source": [
    "numbers = [i for i in range(1,11)]\n",
    "\n",
    "print(numbers)"
   ]
  },
  {
   "cell_type": "code",
   "execution_count": 6,
   "id": "3342be35-2cb1-4a9e-bfcf-d9b99781aae1",
   "metadata": {},
   "outputs": [
    {
     "name": "stdout",
     "output_type": "stream",
     "text": [
      "[1, 3, 5, 7, 9]\n"
     ]
    }
   ],
   "source": [
    "numbers = [i for i in range(1,11,2)]\n",
    "\n",
    "print(numbers)"
   ]
  },
  {
   "cell_type": "code",
   "execution_count": 7,
   "id": "20ce9374-8fa8-4631-84a8-936f5f7ae970",
   "metadata": {},
   "outputs": [
    {
     "name": "stdout",
     "output_type": "stream",
     "text": [
      "[0, 1, 4, 9, 16, 25, 36, 49, 64, 81, 100]\n"
     ]
    }
   ],
   "source": [
    "squares = [i*i for i in range(11)]\n",
    "\n",
    "print(squares)"
   ]
  },
  {
   "cell_type": "code",
   "execution_count": 8,
   "id": "b267cf03-0d27-41c4-a908-97549c156931",
   "metadata": {},
   "outputs": [
    {
     "name": "stdout",
     "output_type": "stream",
     "text": [
      "[(0, 0), (1, 1), (2, 4), (3, 9), (4, 16), (5, 25), (6, 36), (7, 49), (8, 64), (9, 81), (10, 100)]\n"
     ]
    }
   ],
   "source": [
    "numbers = [ (i, i*i) for i in range(11)]\n",
    "print(numbers)\n"
   ]
  },
  {
   "cell_type": "code",
   "execution_count": 9,
   "id": "d1b467ec-a264-4f26-9b3e-a8da16d195f7",
   "metadata": {},
   "outputs": [
    {
     "name": "stdout",
     "output_type": "stream",
     "text": [
      "[0, 2, 4, 6, 8, 10, 12, 14, 16, 18, 20]\n"
     ]
    }
   ],
   "source": [
    "even_numbers = [i for i in range(21) if i%2==0]\n",
    "\n",
    "print(even_numbers)"
   ]
  },
  {
   "cell_type": "code",
   "execution_count": 12,
   "id": "6103fb2b-d3bd-4770-8b93-c9dc5484ac4c",
   "metadata": {},
   "outputs": [
    {
     "name": "stdout",
     "output_type": "stream",
     "text": [
      "[1, 3, 5, 7, 9, 11, 13, 15, 17, 19]\n"
     ]
    }
   ],
   "source": [
    "odd_numbers = [i for i in range(21) if i%2==1]\n",
    "\n",
    "print(odd_numbers)"
   ]
  },
  {
   "cell_type": "code",
   "execution_count": 13,
   "id": "d90988da-205b-4456-90b3-e3c721bde567",
   "metadata": {},
   "outputs": [],
   "source": [
    "numbers  = [-8,-7,-3,-1,-5,0,1,3,4,5,6,7,8,10]"
   ]
  },
  {
   "cell_type": "code",
   "execution_count": 14,
   "id": "e8b2cd5f-598a-40a2-94e7-b71a6e514fe9",
   "metadata": {},
   "outputs": [],
   "source": [
    "positive_even_numbers = [i for i in numbers if i%2==0 and i>0]"
   ]
  },
  {
   "cell_type": "code",
   "execution_count": 15,
   "id": "dbafe61b-ca82-4717-acaf-5b2dd3f8fa3c",
   "metadata": {},
   "outputs": [
    {
     "name": "stdout",
     "output_type": "stream",
     "text": [
      "[4, 6, 8, 10]\n"
     ]
    }
   ],
   "source": [
    "print(positive_even_numbers)"
   ]
  },
  {
   "cell_type": "code",
   "execution_count": 16,
   "id": "5305c660-e043-4a80-9148-f8f5ef6e6908",
   "metadata": {},
   "outputs": [],
   "source": [
    "negative_even_numbers = [i for i in numbers if i%2==0 and i<0]"
   ]
  },
  {
   "cell_type": "code",
   "execution_count": 17,
   "id": "f28fcba7-845d-4063-8800-9207906a49a9",
   "metadata": {},
   "outputs": [
    {
     "name": "stdout",
     "output_type": "stream",
     "text": [
      "[-8]\n"
     ]
    }
   ],
   "source": [
    "print(negative_even_numbers)"
   ]
  },
  {
   "cell_type": "code",
   "execution_count": 18,
   "id": "2560e438-4787-481c-9b85-6121a608b4b2",
   "metadata": {},
   "outputs": [
    {
     "name": "stdout",
     "output_type": "stream",
     "text": [
      "[1, 2, 3, 4, 5, 6, 7, 8, 9]\n"
     ]
    }
   ],
   "source": [
    "list_of_lists  = [[1,2,3],[4,5,6],[7,8,9]]\n",
    "\n",
    "flattened_list = [number for row in list_of_lists for number in row]\n",
    "\n",
    "print(flattened_list)"
   ]
  },
  {
   "cell_type": "code",
   "execution_count": 19,
   "id": "11d6a789-314d-4733-9905-42018619dba7",
   "metadata": {},
   "outputs": [
    {
     "name": "stdout",
     "output_type": "stream",
     "text": [
      "[2, 4, 6, 8, 10]\n"
     ]
    }
   ],
   "source": [
    "numbers  = [1,2,3,4,5,6,7,8,9,10]\n",
    "\n",
    "even_numbers = []\n",
    "\n",
    "for num in numbers :\n",
    "    if num %2 == 0:\n",
    "        even_numbers.append(num)\n",
    "\n",
    "print(even_numbers)"
   ]
  },
  {
   "cell_type": "code",
   "execution_count": 20,
   "id": "0566918b-40b8-4210-bddb-3791062c6f0a",
   "metadata": {},
   "outputs": [
    {
     "name": "stdout",
     "output_type": "stream",
     "text": [
      "[1, 3, 5, 7, 9]\n"
     ]
    }
   ],
   "source": [
    "numbers  = [1,2,3,4,5,6,7,8,9,10]\n",
    "\n",
    "odd_numbers = []\n",
    "\n",
    "for num in numbers :\n",
    "    if num %2 == 1:\n",
    "        odd_numbers.append(num)\n",
    "\n",
    "print(odd_numbers)"
   ]
  },
  {
   "cell_type": "code",
   "execution_count": 21,
   "id": "3e12e94e-122a-47fd-9db0-e427f9f4a95b",
   "metadata": {},
   "outputs": [],
   "source": [
    "words = [\"Sujal\", \"Sarthak\", \"Pushpak\", \"Riddham\", \"Ram\", \"Raj\"]"
   ]
  },
  {
   "cell_type": "code",
   "execution_count": 22,
   "id": "149170cd-0e60-4279-b4e0-d8140a6aa4c0",
   "metadata": {},
   "outputs": [],
   "source": [
    "long_words = [word for word in words if len(word) < 5]"
   ]
  },
  {
   "cell_type": "code",
   "execution_count": 25,
   "id": "b5a654df-4514-406f-a2fd-565d4c5a3d6a",
   "metadata": {},
   "outputs": [
    {
     "name": "stdout",
     "output_type": "stream",
     "text": [
      "['Sarthak', 'Pushpak', 'Riddham']\n"
     ]
    }
   ],
   "source": [
    "print(long_words)"
   ]
  },
  {
   "cell_type": "code",
   "execution_count": 26,
   "id": "a60f32a4-9bfc-482a-8534-7d4d86ed0bd1",
   "metadata": {},
   "outputs": [],
   "source": [
    "l = [x*3 for x in \"Sujal\"]"
   ]
  },
  {
   "cell_type": "code",
   "execution_count": 28,
   "id": "5472cc4c-178d-4594-9cad-6e32a558273d",
   "metadata": {},
   "outputs": [
    {
     "name": "stdout",
     "output_type": "stream",
     "text": [
      "['SSS', 'uuu', 'jjj', 'aaa', 'lll']\n"
     ]
    }
   ],
   "source": [
    "print(l)"
   ]
  },
  {
   "cell_type": "code",
   "execution_count": 29,
   "id": "fc5d96e9-406a-49a6-88a8-6b72411f34cf",
   "metadata": {},
   "outputs": [],
   "source": [
    "l = [x*3 for x in \"Ram\"]"
   ]
  },
  {
   "cell_type": "code",
   "execution_count": 30,
   "id": "5ebb7a2a-e52f-4ee1-95d7-b0fcb9778fd6",
   "metadata": {},
   "outputs": [
    {
     "name": "stdout",
     "output_type": "stream",
     "text": [
      "['RRR', 'aaa', 'mmm']\n"
     ]
    }
   ],
   "source": [
    "print(l)"
   ]
  },
  {
   "cell_type": "code",
   "execution_count": 31,
   "id": "24559c8b-5f10-4b15-8ac7-bcb8b8781b60",
   "metadata": {},
   "outputs": [],
   "source": [
    "vec = [-4,-2,0,2,4]"
   ]
  },
  {
   "cell_type": "code",
   "execution_count": 32,
   "id": "0b129898-0344-4ba7-83eb-ab3b57e070df",
   "metadata": {},
   "outputs": [
    {
     "name": "stdout",
     "output_type": "stream",
     "text": [
      "[4, 2, 0, 2, 4]\n"
     ]
    }
   ],
   "source": [
    "result = [abs(x) for x in vec]\n",
    "\n",
    "print(result)\n"
   ]
  },
  {
   "cell_type": "code",
   "execution_count": 33,
   "id": "e32dd746-74f4-4bc2-8ffd-017e64d18a35",
   "metadata": {},
   "outputs": [],
   "source": [
    "colors = [\"res   \",\"   green\", \"    blue    \"]\n",
    "\n",
    "l = [color.strip() for color in colors]"
   ]
  },
  {
   "cell_type": "code",
   "execution_count": 34,
   "id": "59f1cae2-65a4-43cb-8d1c-34d177ad1ffd",
   "metadata": {},
   "outputs": [
    {
     "name": "stdout",
     "output_type": "stream",
     "text": [
      "['res', 'green', 'blue']\n"
     ]
    }
   ],
   "source": [
    "print(l)"
   ]
  },
  {
   "cell_type": "code",
   "execution_count": 37,
   "id": "9a2ca22b-989c-4d5e-a8d3-899d4f929af0",
   "metadata": {},
   "outputs": [
    {
     "name": "stdin",
     "output_type": "stream",
     "text": [
      "Enter the number  :  1\n"
     ]
    },
    {
     "name": "stdout",
     "output_type": "stream",
     "text": [
      "1 * 1 => 1\n",
      "1 * 2 => 2\n",
      "1 * 3 => 3\n",
      "1 * 4 => 4\n",
      "1 * 5 => 5\n",
      "1 * 6 => 6\n",
      "1 * 7 => 7\n",
      "1 * 8 => 8\n",
      "1 * 9 => 9\n",
      "1 * 10 => 10\n"
     ]
    }
   ],
   "source": [
    "i = 1\n",
    "n = int(input(\"Enter the number  : \"))\n",
    "\n",
    "while(i<=10):\n",
    "    r = n * i\n",
    "    print(f\"{n} * {i} => {r}\" )\n",
    "    i=i+1"
   ]
  },
  {
   "cell_type": "code",
   "execution_count": 38,
   "id": "88aeb618-2491-48b0-bb9d-c43ec492baac",
   "metadata": {},
   "outputs": [
    {
     "name": "stdin",
     "output_type": "stream",
     "text": [
      "Enter the number  :  2\n"
     ]
    },
    {
     "name": "stdout",
     "output_type": "stream",
     "text": [
      "2 * 1 => 2\n",
      "2 * 2 => 4\n",
      "2 * 3 => 6\n",
      "2 * 4 => 8\n",
      "2 * 5 => 10\n",
      "2 * 6 => 12\n",
      "2 * 7 => 14\n",
      "2 * 8 => 16\n",
      "2 * 9 => 18\n",
      "2 * 10 => 20\n"
     ]
    }
   ],
   "source": [
    "i = 1\n",
    "n = int(input(\"Enter the number  : \"))\n",
    "\n",
    "while(i<=10):\n",
    "    r = n * i\n",
    "    print(f\"{n} * {i} => {r}\" )\n",
    "    i=i+1\n"
   ]
  },
  {
   "cell_type": "code",
   "execution_count": 39,
   "id": "5a3e3df9-4c5d-4cb1-ae90-9fc27897b8c7",
   "metadata": {},
   "outputs": [
    {
     "name": "stdin",
     "output_type": "stream",
     "text": [
      "Enter the number  :  3\n"
     ]
    },
    {
     "name": "stdout",
     "output_type": "stream",
     "text": [
      "3 * 1 => 3\n",
      "3 * 2 => 6\n",
      "3 * 3 => 9\n",
      "3 * 4 => 12\n",
      "3 * 5 => 15\n",
      "3 * 6 => 18\n",
      "3 * 7 => 21\n",
      "3 * 8 => 24\n",
      "3 * 9 => 27\n",
      "3 * 10 => 30\n"
     ]
    }
   ],
   "source": [
    "i = 1\n",
    "n = int(input(\"Enter the number  : \"))\n",
    "\n",
    "while(i<=10):\n",
    "    r = n * i\n",
    "    print(f\"{n} * {i} => {r}\" )\n",
    "    i=i+1"
   ]
  },
  {
   "cell_type": "code",
   "execution_count": 40,
   "id": "53c03a08-b30c-4712-8a31-60f7f911b78a",
   "metadata": {},
   "outputs": [
    {
     "name": "stdin",
     "output_type": "stream",
     "text": [
      "Enter the number  :  4\n"
     ]
    },
    {
     "name": "stdout",
     "output_type": "stream",
     "text": [
      "4 * 1 => 4\n",
      "4 * 2 => 8\n",
      "4 * 3 => 12\n",
      "4 * 4 => 16\n",
      "4 * 5 => 20\n",
      "4 * 6 => 24\n",
      "4 * 7 => 28\n",
      "4 * 8 => 32\n",
      "4 * 9 => 36\n",
      "4 * 10 => 40\n"
     ]
    }
   ],
   "source": [
    "i = 1\n",
    "n = int(input(\"Enter the number  : \"))\n",
    "\n",
    "while(i<=10):\n",
    "    r = n * i\n",
    "    print(f\"{n} * {i} => {r}\" )\n",
    "    i=i+1\n",
    "    "
   ]
  },
  {
   "cell_type": "code",
   "execution_count": 41,
   "id": "2346a94c-1895-4db9-8b21-2e433ba7c30f",
   "metadata": {},
   "outputs": [
    {
     "name": "stdin",
     "output_type": "stream",
     "text": [
      "Enter the number  :  5\n"
     ]
    },
    {
     "name": "stdout",
     "output_type": "stream",
     "text": [
      "5 * 1 => 5\n",
      "5 * 2 => 10\n",
      "5 * 3 => 15\n",
      "5 * 4 => 20\n",
      "5 * 5 => 25\n",
      "5 * 6 => 30\n",
      "5 * 7 => 35\n",
      "5 * 8 => 40\n",
      "5 * 9 => 45\n",
      "5 * 10 => 50\n"
     ]
    }
   ],
   "source": [
    "i = 1\n",
    "n = int(input(\"Enter the number  : \"))\n",
    "\n",
    "while(i<=10):\n",
    "    r = n * i\n",
    "    print(f\"{n} * {i} => {r}\" )\n",
    "    i=i+1"
   ]
  },
  {
   "cell_type": "code",
   "execution_count": 42,
   "id": "40196a04-9803-4312-9842-b662d3b808cd",
   "metadata": {},
   "outputs": [
    {
     "name": "stdin",
     "output_type": "stream",
     "text": [
      "Enter the number  :  6\n"
     ]
    },
    {
     "name": "stdout",
     "output_type": "stream",
     "text": [
      "6 * 1 => 6\n",
      "6 * 2 => 12\n",
      "6 * 3 => 18\n",
      "6 * 4 => 24\n",
      "6 * 5 => 30\n",
      "6 * 6 => 36\n",
      "6 * 7 => 42\n",
      "6 * 8 => 48\n",
      "6 * 9 => 54\n",
      "6 * 10 => 60\n"
     ]
    }
   ],
   "source": [
    "i = 1\n",
    "n = int(input(\"Enter the number  : \"))\n",
    "\n",
    "while(i<=10):\n",
    "    r = n * i\n",
    "    print(f\"{n} * {i} => {r}\" )\n",
    "    i=i+1"
   ]
  },
  {
   "cell_type": "code",
   "execution_count": 43,
   "id": "b5d7fc78-1b07-4a9c-816e-8a5bac020363",
   "metadata": {},
   "outputs": [
    {
     "name": "stdin",
     "output_type": "stream",
     "text": [
      "Enter the number  :  7\n"
     ]
    },
    {
     "name": "stdout",
     "output_type": "stream",
     "text": [
      "7 * 1 => 7\n",
      "7 * 2 => 14\n",
      "7 * 3 => 21\n",
      "7 * 4 => 28\n",
      "7 * 5 => 35\n",
      "7 * 6 => 42\n",
      "7 * 7 => 49\n",
      "7 * 8 => 56\n",
      "7 * 9 => 63\n",
      "7 * 10 => 70\n"
     ]
    }
   ],
   "source": [
    "i = 1\n",
    "n = int(input(\"Enter the number  : \"))\n",
    "\n",
    "while(i<=10):\n",
    "    r = n * i\n",
    "    print(f\"{n} * {i} => {r}\" )\n",
    "    i=i+1\n",
    "\n"
   ]
  },
  {
   "cell_type": "code",
   "execution_count": 44,
   "id": "6f3fa3d1-2fd4-4754-97dc-81d0c4f970bc",
   "metadata": {},
   "outputs": [
    {
     "name": "stdin",
     "output_type": "stream",
     "text": [
      "Enter the number  :  8\n"
     ]
    },
    {
     "name": "stdout",
     "output_type": "stream",
     "text": [
      "8 * 1 => 8\n",
      "8 * 2 => 16\n",
      "8 * 3 => 24\n",
      "8 * 4 => 32\n",
      "8 * 5 => 40\n",
      "8 * 6 => 48\n",
      "8 * 7 => 56\n",
      "8 * 8 => 64\n",
      "8 * 9 => 72\n",
      "8 * 10 => 80\n"
     ]
    }
   ],
   "source": [
    "i = 1\n",
    "n = int(input(\"Enter the number  : \"))\n",
    "\n",
    "while(i<=10):\n",
    "    r = n * i\n",
    "    print(f\"{n} * {i} => {r}\" )\n",
    "    i=i+1\n",
    "    "
   ]
  },
  {
   "cell_type": "code",
   "execution_count": 45,
   "id": "e397bee4-ec1b-4d4a-adb0-14621d85664f",
   "metadata": {},
   "outputs": [
    {
     "name": "stdin",
     "output_type": "stream",
     "text": [
      "Enter the number  :  9\n"
     ]
    },
    {
     "name": "stdout",
     "output_type": "stream",
     "text": [
      "9 * 1 => 9\n",
      "9 * 2 => 18\n",
      "9 * 3 => 27\n",
      "9 * 4 => 36\n",
      "9 * 5 => 45\n",
      "9 * 6 => 54\n",
      "9 * 7 => 63\n",
      "9 * 8 => 72\n",
      "9 * 9 => 81\n",
      "9 * 10 => 90\n"
     ]
    }
   ],
   "source": [
    "i = 1\n",
    "n = int(input(\"Enter the number  : \"))\n",
    "\n",
    "while(i<=10):\n",
    "    r = n * i\n",
    "    print(f\"{n} * {i} => {r}\" )\n",
    "    i=i+1\n",
    "    "
   ]
  },
  {
   "cell_type": "code",
   "execution_count": 46,
   "id": "fa39c9ac-a046-4e41-8880-72eda26ad918",
   "metadata": {},
   "outputs": [
    {
     "name": "stdin",
     "output_type": "stream",
     "text": [
      "Enter the number  :  10\n"
     ]
    },
    {
     "name": "stdout",
     "output_type": "stream",
     "text": [
      "10 * 1 => 10\n",
      "10 * 2 => 20\n",
      "10 * 3 => 30\n",
      "10 * 4 => 40\n",
      "10 * 5 => 50\n",
      "10 * 6 => 60\n",
      "10 * 7 => 70\n",
      "10 * 8 => 80\n",
      "10 * 9 => 90\n",
      "10 * 10 => 100\n"
     ]
    }
   ],
   "source": [
    "i = 1\n",
    "n = int(input(\"Enter the number  : \"))\n",
    "\n",
    "while(i<=10):\n",
    "    r = n * i\n",
    "    print(f\"{n} * {i} => {r}\" )\n",
    "    i=i+1"
   ]
  },
  {
   "cell_type": "code",
   "execution_count": 48,
   "id": "34d66fe6-6337-4ef9-814a-8e6de3488aba",
   "metadata": {},
   "outputs": [
    {
     "name": "stdout",
     "output_type": "stream",
     "text": [
      "2\n",
      "4\n",
      "6\n",
      "8\n",
      "10\n"
     ]
    }
   ],
   "source": [
    "ls = [2,4,6,8,10]\n",
    "\n",
    "for i in ls:\n",
    "    print(i)\n",
    "\n"
   ]
  },
  {
   "cell_type": "code",
   "execution_count": 1,
   "id": "769355e2-f58e-4740-a472-ef302e13f05c",
   "metadata": {},
   "outputs": [
    {
     "name": "stdin",
     "output_type": "stream",
     "text": [
      "Enter value of n :  5\n",
      "Enter the number to add in list 24\n",
      "Enter the number to add in list 15\n",
      "Enter the number to add in list 36\n",
      "Enter the number to add in list 24\n",
      "Enter the number to add in list 15\n"
     ]
    },
    {
     "name": "stdout",
     "output_type": "stream",
     "text": [
      "[24, 15, 36, 24, 15]\n"
     ]
    }
   ],
   "source": [
    "#String programms : \n",
    "# smallest elements 23\n",
    "# largest elements  25\n",
    "ls = []\n",
    "n = int(input(\"Enter value of n : \"))\n",
    "for i in range(n):\n",
    "    v = int(input(\"Enter the number to add in list\"))\n",
    "    ls.append(v)\n",
    "\n",
    "print(ls)\n"
   ]
  },
  {
   "cell_type": "code",
   "execution_count": 5,
   "id": "0da94722-ee81-42d8-9aba-a49d78780272",
   "metadata": {},
   "outputs": [
    {
     "name": "stdin",
     "output_type": "stream",
     "text": [
      "Enter value of n :  5\n",
      "Enter the number to add in list 12\n",
      "Enter the number to add in list 25\n",
      "Enter the number to add in list 15\n",
      "Enter the number to add in list 65\n",
      "Enter the number to add in list 24\n"
     ]
    },
    {
     "name": "stdout",
     "output_type": "stream",
     "text": [
      "Maximum value present in list : 65\n",
      "Minimum value present in list : 12\n"
     ]
    }
   ],
   "source": [
    "ls = []\n",
    "n = int(input(\"Enter value of n : \"))\n",
    "for i in range(n):\n",
    "    v = int(input(\"Enter the number to add in list\"))\n",
    "    ls.append(v)\n",
    "\n",
    "print(f\"Maximum value present in list : {max(ls)}\")\n",
    "print(f\"Minimum value present in list : {min(ls)}\")"
   ]
  },
  {
   "cell_type": "code",
   "execution_count": 7,
   "id": "ff2d3e46-cd50-4e68-84de-cc5f3dc77106",
   "metadata": {},
   "outputs": [
    {
     "name": "stdin",
     "output_type": "stream",
     "text": [
      "Enter value of n :  2\n",
      "Enter the number to add in list 32\n",
      "Enter the number to add in list 12\n"
     ]
    },
    {
     "name": "stdout",
     "output_type": "stream",
     "text": [
      "[32, 12]\n"
     ]
    }
   ],
   "source": [
    "data = []\n",
    "n = int(input(\"Enter value of n : \"))\n",
    "for i in range(n):\n",
    "    vd= int(input(\"Enter the number to add in list\"))\n",
    "    data.append(vd)\n",
    "\n",
    "print (data)"
   ]
  },
  {
   "cell_type": "code",
   "execution_count": 13,
   "id": "7dad8c59-3389-44e1-95e4-ab1ed422eef0",
   "metadata": {},
   "outputs": [
    {
     "name": "stdin",
     "output_type": "stream",
     "text": [
      "Enter value of n :  5\n",
      "Enter the number to add in list 2\n",
      "Enter the number to add in list 3\n",
      "Enter the number to add in list 4\n",
      "Enter the number to add in list 5\n",
      "Enter the number to add in list 6\n"
     ]
    },
    {
     "name": "stdout",
     "output_type": "stream",
     "text": [
      "Half elements are  : [2, 3]\n",
      "Half elements are  : [4, 5, 6]\n"
     ]
    }
   ],
   "source": [
    "data = []\n",
    "n = int(input(\"Enter value of n : \"))\n",
    "for i in range(n):\n",
    "    vd= int(input(\"Enter the number to add in list\"))\n",
    "    data.append(vd)\n",
    "\n",
    "print (f\"Half elements are  : {data[0:2]}\")\n",
    "print (f\"Half elements are  : {data[2:5]}\")"
   ]
  },
  {
   "cell_type": "code",
   "execution_count": 16,
   "id": "023ab83f-b76f-42fc-b88f-0c8be375ce9c",
   "metadata": {},
   "outputs": [
    {
     "name": "stdout",
     "output_type": "stream",
     "text": [
      "['Ram', 'Raj']\n"
     ]
    }
   ],
   "source": [
    "ls = [\"\", \"Ram\", \"\", \"Raj\", \"\"]\n",
    "for i in ls:\n",
    "    if(i==\"\"):\n",
    "        ls.remove(\"\")\n",
    "print (ls)"
   ]
  },
  {
   "cell_type": "code",
   "execution_count": null,
   "id": "37d3a0ba-d5d6-45c4-b3cd-202d3f2910df",
   "metadata": {},
   "outputs": [],
   "source": [
    "\n"
   ]
  },
  {
   "cell_type": "code",
   "execution_count": null,
   "id": "16bf8091-c4ba-4a3f-a115-ebe7f1325188",
   "metadata": {},
   "outputs": [],
   "source": []
  }
 ],
 "metadata": {
  "kernelspec": {
   "display_name": "Python 3 (ipykernel)",
   "language": "python",
   "name": "python3"
  },
  "language_info": {
   "codemirror_mode": {
    "name": "ipython",
    "version": 3
   },
   "file_extension": ".py",
   "mimetype": "text/x-python",
   "name": "python",
   "nbconvert_exporter": "python",
   "pygments_lexer": "ipython3",
   "version": "3.12.4"
  }
 },
 "nbformat": 4,
 "nbformat_minor": 5
}
